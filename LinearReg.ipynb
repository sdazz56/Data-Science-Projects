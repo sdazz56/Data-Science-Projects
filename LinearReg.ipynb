{
  "nbformat": 4,
  "nbformat_minor": 0,
  "metadata": {
    "colab": {
      "name": "LinearReg.ipynb",
      "provenance": [],
      "collapsed_sections": [],
      "authorship_tag": "ABX9TyO95QLUIcw71xSGgNrHJJ9U",
      "include_colab_link": true
    },
    "kernelspec": {
      "name": "python3",
      "display_name": "Python 3"
    },
    "language_info": {
      "name": "python"
    }
  },
  "cells": [
    {
      "cell_type": "markdown",
      "metadata": {
        "id": "view-in-github",
        "colab_type": "text"
      },
      "source": [
        "<a href=\"https://colab.research.google.com/github/sdazz56/Data-Science-Projects/blob/main/LinearReg.ipynb\" target=\"_parent\"><img src=\"https://colab.research.google.com/assets/colab-badge.svg\" alt=\"Open In Colab\"/></a>"
      ]
    },
    {
      "cell_type": "code",
      "metadata": {
        "id": "nCBSw_bNa8W9"
      },
      "source": [
        "import numpy as np\n",
        "import pandas as pd\n",
        "import tensorflow as tf\n",
        "import keras"
      ],
      "execution_count": 1,
      "outputs": []
    },
    {
      "cell_type": "code",
      "metadata": {
        "id": "Mbekx3TMgq-R"
      },
      "source": [
        "def predict_sal(y_new):\n",
        "  x=[0,1,2,3,4,5,6,7] #experience\n",
        "  y=[0.4,0.5,0.6,0.7,0.8,0.9,1.0,1.1] #salary\n",
        "  model=keras.Sequential([keras.layers.Dense(units=1,input_shape=[1])])\n",
        "  model.compile(optimizer='sgd',loss='mean_squared_error')\n",
        "  model.fit(x,y,epochs=291)\n",
        "  return model.predict(y_new)[0][0]"
      ],
      "execution_count": 2,
      "outputs": []
    },
    {
      "cell_type": "code",
      "metadata": {
        "id": "LKPeryGAi4UR"
      },
      "source": [
        "prediction=predict_sal([9.0])"
      ],
      "execution_count": null,
      "outputs": []
    },
    {
      "cell_type": "code",
      "metadata": {
        "colab": {
          "base_uri": "https://localhost:8080/"
        },
        "id": "8M2j3C2SjcTn",
        "outputId": "99980317-8f90-4b24-a8e7-f76c9032945e"
      },
      "source": [
        "print(prediction*100 ,\"thousand dollars\")"
      ],
      "execution_count": 4,
      "outputs": [
        {
          "output_type": "stream",
          "name": "stdout",
          "text": [
            "133.91129970550537 thousand dollars\n"
          ]
        }
      ]
    }
  ]
}