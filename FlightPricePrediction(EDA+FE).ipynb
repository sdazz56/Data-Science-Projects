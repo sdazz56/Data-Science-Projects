{
  "nbformat": 4,
  "nbformat_minor": 0,
  "metadata": {
    "colab": {
      "name": "FlightPricePrediction(EDA+FE).ipynb",
      "provenance": [],
      "authorship_tag": "ABX9TyPMxn6Rdc2WAlj+DPgi0uW8",
      "include_colab_link": true
    },
    "kernelspec": {
      "name": "python3",
      "display_name": "Python 3"
    },
    "language_info": {
      "name": "python"
    }
  },
  "cells": [
    {
      "cell_type": "markdown",
      "metadata": {
        "id": "view-in-github",
        "colab_type": "text"
      },
      "source": [
        "<a href=\"https://colab.research.google.com/github/sdazz56/Data-Science-Projects/blob/main/FlightPricePrediction(EDA%2BFE).ipynb\" target=\"_parent\"><img src=\"https://colab.research.google.com/assets/colab-badge.svg\" alt=\"Open In Colab\"/></a>"
      ]
    },
    {
      "cell_type": "code",
      "execution_count": 1,
      "metadata": {
        "id": "29tzYUdHC92q"
      },
      "outputs": [],
      "source": [
        "import numpy as np\n",
        "import pandas as pd\n",
        "import matplotlib.pyplot as plt\n",
        "%matplotlib inline # dont have to write plt.show---it automatically shows the graph\n",
        "import seaborn as sns"
      ]
    },
    {
      "cell_type": "code",
      "source": [
        "train_df= pd.read_excel('/content/Data_Train.xlsx')\n",
        "train_df.head()   "
      ],
      "metadata": {
        "id": "mxCeczp8EmKc"
      },
      "execution_count": null,
      "outputs": []
    },
    {
      "cell_type": "code",
      "source": [
        "test_df= pd.read_excel('/content/Test_set.xlsx')\n",
        "test_df.head()"
      ],
      "metadata": {
        "id": "S94gxGD4Gf1y"
      },
      "execution_count": null,
      "outputs": []
    },
    {
      "cell_type": "markdown",
      "source": [
        "#Merging train and test data"
      ],
      "metadata": {
        "id": "-PKZnvBYdVXF"
      }
    },
    {
      "cell_type": "code",
      "source": [
        "final_df=train_df.append(test_df)"
      ],
      "metadata": {
        "id": "jYBSSmbAHxCI"
      },
      "execution_count": 6,
      "outputs": []
    },
    {
      "cell_type": "markdown",
      "source": [
        "Now we will do feature engineering on some columns like \n",
        "\n",
        "Date_of_Journey, \n",
        " \n",
        " Arrival_Time, \n",
        " \n",
        " Dep_Time, \n",
        " \n",
        " Route and \n",
        " Duration."
      ],
      "metadata": {
        "id": "NVCRYnsSda-p"
      }
    },
    {
      "cell_type": "code",
      "source": [
        "final_df['Date_of_Journey'].str.split('/').str[0]\n",
        "final_df['Date_of_Journey'].str.split('/').str[1]"
      ],
      "metadata": {
        "id": "bI_rknwYIWkI"
      },
      "execution_count": null,
      "outputs": []
    },
    {
      "cell_type": "code",
      "source": [
        "final_df['Date']= final_df['Date_of_Journey'].str.split('/').str[0]\n",
        "final_df['Month']=final_df['Date_of_Journey'].str.split('/').str[1]\n",
        "final_df['Year']=final_df['Date_of_Journey'].apply(lambda x:x.split(\"/\")[2])"
      ],
      "metadata": {
        "id": "6KBx8ZyNJjd0"
      },
      "execution_count": 15,
      "outputs": []
    },
    {
      "cell_type": "code",
      "source": [
        "final_df['Date']=final_df['Date'].astype(int)\n",
        "final_df['Month']=final_df['Month'].astype(int)\n",
        "final_df['Year']=final_df['Year'].astype(int)"
      ],
      "metadata": {
        "id": "B_n97eLHK2VA"
      },
      "execution_count": 17,
      "outputs": []
    },
    {
      "cell_type": "code",
      "source": [
        "final_df.drop('Date_of_Journey',axis=1,inplace=True)"
      ],
      "metadata": {
        "id": "9Htck4TjLwm7"
      },
      "execution_count": 19,
      "outputs": []
    },
    {
      "cell_type": "code",
      "source": [
        "final_df['Arrival_Time'].str.split(' ').str[0]"
      ],
      "metadata": {
        "id": "oSOrn9atMWAw"
      },
      "execution_count": null,
      "outputs": []
    },
    {
      "cell_type": "code",
      "source": [
        "final_df['Arrival_Time']=final_df['Arrival_Time'].str.split(' ').str[0]"
      ],
      "metadata": {
        "id": "KIGGoxpqOHeC"
      },
      "execution_count": 26,
      "outputs": []
    },
    {
      "cell_type": "code",
      "source": [
        "final_df.isnull().sum()"
      ],
      "metadata": {
        "id": "fX6kJgAmOfsa"
      },
      "execution_count": null,
      "outputs": []
    },
    {
      "cell_type": "code",
      "source": [
        "final_df['Arrival_Time'].str.split(':').str[0]"
      ],
      "metadata": {
        "id": "LmqXiSEUPAvv"
      },
      "execution_count": null,
      "outputs": []
    },
    {
      "cell_type": "code",
      "source": [
        "final_df['Arrival_Hour']=final_df['Arrival_Time'].str.split(':').str[0]\n",
        "final_df['Arrival_Min']=final_df['Arrival_Time'].str.split(':').str[0]"
      ],
      "metadata": {
        "id": "aqmCPfHKOlfg"
      },
      "execution_count": 31,
      "outputs": []
    },
    {
      "cell_type": "code",
      "source": [
        "final_df['Arrival_Hour']=final_df['Arrival_Hour'].astype(int)\n",
        "final_df['Arrival_Min']=final_df['Arrival_Min'].astype(int)"
      ],
      "metadata": {
        "id": "tIeLWqRsPSfk"
      },
      "execution_count": 32,
      "outputs": []
    },
    {
      "cell_type": "code",
      "source": [
        "final_df.drop('Arrival_Time',axis=1,inplace=True)"
      ],
      "metadata": {
        "id": "NEr98MmuPqZs"
      },
      "execution_count": 35,
      "outputs": []
    },
    {
      "cell_type": "code",
      "source": [
        "final_df['Dep_Time'].str.split(':').str[0]"
      ],
      "metadata": {
        "id": "HBL1gG-gP-tH"
      },
      "execution_count": null,
      "outputs": []
    },
    {
      "cell_type": "code",
      "source": [
        "final_df['Dep_Hour']=final_df['Dep_Time'].str.split(':').str[0]\n",
        "final_df['Dep_Min']=final_df['Dep_Time'].str.split(':').str[1]"
      ],
      "metadata": {
        "id": "eqZwnXbzQTID"
      },
      "execution_count": 41,
      "outputs": []
    },
    {
      "cell_type": "code",
      "source": [
        "final_df['Dep_Hour']=final_df['Dep_Hour'].astype(int)\n",
        "final_df['Dep_Min']=final_df['Dep_Min'].astype(int)"
      ],
      "metadata": {
        "id": "tmY84KLWQagQ"
      },
      "execution_count": 44,
      "outputs": []
    },
    {
      "cell_type": "code",
      "source": [
        "final_df.drop('Dep_Time',axis=1,inplace=True)"
      ],
      "metadata": {
        "id": "3OZtQfcIQ5U0"
      },
      "execution_count": 46,
      "outputs": []
    },
    {
      "cell_type": "code",
      "source": [
        "final_df.info()"
      ],
      "metadata": {
        "id": "pXI0q9mbRHQU"
      },
      "execution_count": null,
      "outputs": []
    },
    {
      "cell_type": "code",
      "source": [
        "final_df[final_df['Total_Stops'].isnull()]"
      ],
      "metadata": {
        "id": "rlROlbPDSl01"
      },
      "execution_count": null,
      "outputs": []
    },
    {
      "cell_type": "code",
      "source": [
        "final_df['Total_Stops']=final_df['Total_Stops'].map({'non-stop':0,'1 stop':1, '2 stops':2, '3 stops': 3, '4 stops':4,'NaN':1})"
      ],
      "metadata": {
        "id": "a2QHVi3xR01X"
      },
      "execution_count": 50,
      "outputs": []
    },
    {
      "cell_type": "code",
      "source": [
        "final_df.drop('Route',axis=1,inplace=True)"
      ],
      "metadata": {
        "id": "py-cAbL7TAwP"
      },
      "execution_count": null,
      "outputs": []
    },
    {
      "cell_type": "code",
      "source": [
        "final_df['Duration'].unique()"
      ],
      "metadata": {
        "id": "RfiKoyCPTj4z"
      },
      "execution_count": null,
      "outputs": []
    },
    {
      "cell_type": "code",
      "source": [
        "final_df[final_df['Duration'].str.split(' ').str[1].isnull()]"
      ],
      "metadata": {
        "id": "vOe0QKaHaopv"
      },
      "execution_count": null,
      "outputs": []
    },
    {
      "cell_type": "code",
      "source": [
        "#final_df['Duration'].str.split(' ').str[0].str.split('h').str[0]\n",
        "final_df['Duration'].str.split(' ').str[1].str.replace('m',' ')"
      ],
      "metadata": {
        "id": "97HSmbtdVkf5"
      },
      "execution_count": null,
      "outputs": []
    },
    {
      "cell_type": "code",
      "source": [
        "final_df['Duration_Min']=final_df['Duration'].str.split(' ').str[0].str.split('h').str[0]"
      ],
      "metadata": {
        "id": "8RYCJe3DWTWJ"
      },
      "execution_count": 66,
      "outputs": []
    },
    {
      "cell_type": "code",
      "source": [
        "final_df.drop(6474,axis=0,inplace=True)\n",
        "final_df.drop(2660,axis=0,inplace=True)\n",
        "final_df['Duration_Min']=final_df['Duration_Min'].astype(int)"
      ],
      "metadata": {
        "id": "2_X041KsXBBq"
      },
      "execution_count": 69,
      "outputs": []
    },
    {
      "cell_type": "code",
      "source": [
        "final_df['Duration_Min']=final_df['Duration_Min']*60"
      ],
      "metadata": {
        "id": "H82lMUZMWpb9"
      },
      "execution_count": 70,
      "outputs": []
    },
    {
      "cell_type": "code",
      "source": [
        "final_df.head()"
      ],
      "metadata": {
        "id": "Ip9AaX5dHxMu"
      },
      "execution_count": null,
      "outputs": []
    },
    {
      "cell_type": "code",
      "source": [
        "final_df.drop('Duration',axis=1,inplace=True)"
      ],
      "metadata": {
        "id": "SCNTloofcE0J"
      },
      "execution_count": 83,
      "outputs": []
    },
    {
      "cell_type": "markdown",
      "source": [
        "#Now we do LabelEncoding for Categorical Features"
      ],
      "metadata": {
        "id": "X1bEi0YvdHzH"
      }
    },
    {
      "cell_type": "code",
      "source": [
        "final_df['Airline'].unique()"
      ],
      "metadata": {
        "colab": {
          "base_uri": "https://localhost:8080/"
        },
        "id": "_f5Y0Zp_cNI4",
        "outputId": "95bea2f5-4346-4689-8b7e-8e18ad4833a0"
      },
      "execution_count": 84,
      "outputs": [
        {
          "output_type": "execute_result",
          "data": {
            "text/plain": [
              "array(['IndiGo', 'Air India', 'Jet Airways', 'SpiceJet',\n",
              "       'Multiple carriers', 'GoAir', 'Vistara', 'Air Asia',\n",
              "       'Vistara Premium economy', 'Jet Airways Business',\n",
              "       'Multiple carriers Premium economy', 'Trujet'], dtype=object)"
            ]
          },
          "metadata": {},
          "execution_count": 84
        }
      ]
    },
    {
      "cell_type": "code",
      "source": [
        "from sklearn.preprocessing import LabelEncoder\n",
        "labelencoder=LabelEncoder()"
      ],
      "metadata": {
        "id": "zjWdJJTAcTPc"
      },
      "execution_count": 85,
      "outputs": []
    },
    {
      "cell_type": "code",
      "source": [
        "final_df['Airline']=labelencoder.fit_transform(final_df['Airline'])\n",
        "final_df['Source']=labelencoder.fit_transform(final_df['Source'])\n",
        "final_df['Destination']=labelencoder.fit_transform(final_df['Destination'])\n",
        "final_df['Additional_Info']=labelencoder.fit_transform(final_df['Additional_Info'])"
      ],
      "metadata": {
        "id": "ATCS2pDPcdR-"
      },
      "execution_count": 86,
      "outputs": []
    },
    {
      "cell_type": "code",
      "source": [
        "final_df.shape"
      ],
      "metadata": {
        "colab": {
          "base_uri": "https://localhost:8080/"
        },
        "id": "9XBMuLfSc96a",
        "outputId": "b5156b9c-cc5a-44f7-a927-d95d172bf94d"
      },
      "execution_count": 87,
      "outputs": [
        {
          "output_type": "execute_result",
          "data": {
            "text/plain": [
              "(13351, 14)"
            ]
          },
          "metadata": {},
          "execution_count": 87
        }
      ]
    },
    {
      "cell_type": "code",
      "source": [
        "pd.get_dummies(final_df,columns=['Airline','Source','Destination','Additional_Info'],drop_first=True)"
      ],
      "metadata": {
        "colab": {
          "base_uri": "https://localhost:8080/",
          "height": 488
        },
        "id": "rKm9OMkGgXPK",
        "outputId": "d51a5768-c63b-4ea5-df9a-680c44697cfd"
      },
      "execution_count": 90,
      "outputs": [
        {
          "output_type": "execute_result",
          "data": {
            "text/html": [
              "\n",
              "  <div id=\"df-70edf7f1-71db-4376-9fdd-eaba70b0407d\">\n",
              "    <div class=\"colab-df-container\">\n",
              "      <div>\n",
              "<style scoped>\n",
              "    .dataframe tbody tr th:only-of-type {\n",
              "        vertical-align: middle;\n",
              "    }\n",
              "\n",
              "    .dataframe tbody tr th {\n",
              "        vertical-align: top;\n",
              "    }\n",
              "\n",
              "    .dataframe thead th {\n",
              "        text-align: right;\n",
              "    }\n",
              "</style>\n",
              "<table border=\"1\" class=\"dataframe\">\n",
              "  <thead>\n",
              "    <tr style=\"text-align: right;\">\n",
              "      <th></th>\n",
              "      <th>Total_Stops</th>\n",
              "      <th>Price</th>\n",
              "      <th>Date</th>\n",
              "      <th>Month</th>\n",
              "      <th>Year</th>\n",
              "      <th>Arrival_Hour</th>\n",
              "      <th>Arrival_Min</th>\n",
              "      <th>Dep_Hour</th>\n",
              "      <th>Dep_Min</th>\n",
              "      <th>Duration_Min</th>\n",
              "      <th>...</th>\n",
              "      <th>Destination_5</th>\n",
              "      <th>Additional_Info_1</th>\n",
              "      <th>Additional_Info_2</th>\n",
              "      <th>Additional_Info_3</th>\n",
              "      <th>Additional_Info_4</th>\n",
              "      <th>Additional_Info_5</th>\n",
              "      <th>Additional_Info_6</th>\n",
              "      <th>Additional_Info_7</th>\n",
              "      <th>Additional_Info_8</th>\n",
              "      <th>Additional_Info_9</th>\n",
              "    </tr>\n",
              "  </thead>\n",
              "  <tbody>\n",
              "    <tr>\n",
              "      <th>0</th>\n",
              "      <td>0.0</td>\n",
              "      <td>3897.0</td>\n",
              "      <td>24</td>\n",
              "      <td>3</td>\n",
              "      <td>2019</td>\n",
              "      <td>1</td>\n",
              "      <td>1</td>\n",
              "      <td>22</td>\n",
              "      <td>20</td>\n",
              "      <td>120</td>\n",
              "      <td>...</td>\n",
              "      <td>1</td>\n",
              "      <td>0</td>\n",
              "      <td>0</td>\n",
              "      <td>0</td>\n",
              "      <td>0</td>\n",
              "      <td>0</td>\n",
              "      <td>0</td>\n",
              "      <td>0</td>\n",
              "      <td>1</td>\n",
              "      <td>0</td>\n",
              "    </tr>\n",
              "    <tr>\n",
              "      <th>1</th>\n",
              "      <td>2.0</td>\n",
              "      <td>7662.0</td>\n",
              "      <td>1</td>\n",
              "      <td>5</td>\n",
              "      <td>2019</td>\n",
              "      <td>13</td>\n",
              "      <td>13</td>\n",
              "      <td>5</td>\n",
              "      <td>50</td>\n",
              "      <td>420</td>\n",
              "      <td>...</td>\n",
              "      <td>0</td>\n",
              "      <td>0</td>\n",
              "      <td>0</td>\n",
              "      <td>0</td>\n",
              "      <td>0</td>\n",
              "      <td>0</td>\n",
              "      <td>0</td>\n",
              "      <td>0</td>\n",
              "      <td>1</td>\n",
              "      <td>0</td>\n",
              "    </tr>\n",
              "    <tr>\n",
              "      <th>2</th>\n",
              "      <td>2.0</td>\n",
              "      <td>13882.0</td>\n",
              "      <td>9</td>\n",
              "      <td>6</td>\n",
              "      <td>2019</td>\n",
              "      <td>4</td>\n",
              "      <td>4</td>\n",
              "      <td>9</td>\n",
              "      <td>25</td>\n",
              "      <td>1140</td>\n",
              "      <td>...</td>\n",
              "      <td>0</td>\n",
              "      <td>0</td>\n",
              "      <td>0</td>\n",
              "      <td>0</td>\n",
              "      <td>0</td>\n",
              "      <td>0</td>\n",
              "      <td>0</td>\n",
              "      <td>0</td>\n",
              "      <td>1</td>\n",
              "      <td>0</td>\n",
              "    </tr>\n",
              "    <tr>\n",
              "      <th>3</th>\n",
              "      <td>1.0</td>\n",
              "      <td>6218.0</td>\n",
              "      <td>12</td>\n",
              "      <td>5</td>\n",
              "      <td>2019</td>\n",
              "      <td>23</td>\n",
              "      <td>23</td>\n",
              "      <td>18</td>\n",
              "      <td>5</td>\n",
              "      <td>300</td>\n",
              "      <td>...</td>\n",
              "      <td>0</td>\n",
              "      <td>0</td>\n",
              "      <td>0</td>\n",
              "      <td>0</td>\n",
              "      <td>0</td>\n",
              "      <td>0</td>\n",
              "      <td>0</td>\n",
              "      <td>0</td>\n",
              "      <td>1</td>\n",
              "      <td>0</td>\n",
              "    </tr>\n",
              "    <tr>\n",
              "      <th>4</th>\n",
              "      <td>1.0</td>\n",
              "      <td>13302.0</td>\n",
              "      <td>1</td>\n",
              "      <td>3</td>\n",
              "      <td>2019</td>\n",
              "      <td>21</td>\n",
              "      <td>21</td>\n",
              "      <td>16</td>\n",
              "      <td>50</td>\n",
              "      <td>240</td>\n",
              "      <td>...</td>\n",
              "      <td>1</td>\n",
              "      <td>0</td>\n",
              "      <td>0</td>\n",
              "      <td>0</td>\n",
              "      <td>0</td>\n",
              "      <td>0</td>\n",
              "      <td>0</td>\n",
              "      <td>0</td>\n",
              "      <td>1</td>\n",
              "      <td>0</td>\n",
              "    </tr>\n",
              "    <tr>\n",
              "      <th>...</th>\n",
              "      <td>...</td>\n",
              "      <td>...</td>\n",
              "      <td>...</td>\n",
              "      <td>...</td>\n",
              "      <td>...</td>\n",
              "      <td>...</td>\n",
              "      <td>...</td>\n",
              "      <td>...</td>\n",
              "      <td>...</td>\n",
              "      <td>...</td>\n",
              "      <td>...</td>\n",
              "      <td>...</td>\n",
              "      <td>...</td>\n",
              "      <td>...</td>\n",
              "      <td>...</td>\n",
              "      <td>...</td>\n",
              "      <td>...</td>\n",
              "      <td>...</td>\n",
              "      <td>...</td>\n",
              "      <td>...</td>\n",
              "      <td>...</td>\n",
              "    </tr>\n",
              "    <tr>\n",
              "      <th>2666</th>\n",
              "      <td>1.0</td>\n",
              "      <td>NaN</td>\n",
              "      <td>6</td>\n",
              "      <td>6</td>\n",
              "      <td>2019</td>\n",
              "      <td>20</td>\n",
              "      <td>20</td>\n",
              "      <td>20</td>\n",
              "      <td>30</td>\n",
              "      <td>1380</td>\n",
              "      <td>...</td>\n",
              "      <td>0</td>\n",
              "      <td>0</td>\n",
              "      <td>0</td>\n",
              "      <td>0</td>\n",
              "      <td>0</td>\n",
              "      <td>0</td>\n",
              "      <td>0</td>\n",
              "      <td>0</td>\n",
              "      <td>1</td>\n",
              "      <td>0</td>\n",
              "    </tr>\n",
              "    <tr>\n",
              "      <th>2667</th>\n",
              "      <td>0.0</td>\n",
              "      <td>NaN</td>\n",
              "      <td>27</td>\n",
              "      <td>3</td>\n",
              "      <td>2019</td>\n",
              "      <td>16</td>\n",
              "      <td>16</td>\n",
              "      <td>14</td>\n",
              "      <td>20</td>\n",
              "      <td>120</td>\n",
              "      <td>...</td>\n",
              "      <td>0</td>\n",
              "      <td>0</td>\n",
              "      <td>0</td>\n",
              "      <td>0</td>\n",
              "      <td>0</td>\n",
              "      <td>0</td>\n",
              "      <td>0</td>\n",
              "      <td>0</td>\n",
              "      <td>1</td>\n",
              "      <td>0</td>\n",
              "    </tr>\n",
              "    <tr>\n",
              "      <th>2668</th>\n",
              "      <td>1.0</td>\n",
              "      <td>NaN</td>\n",
              "      <td>6</td>\n",
              "      <td>3</td>\n",
              "      <td>2019</td>\n",
              "      <td>4</td>\n",
              "      <td>4</td>\n",
              "      <td>21</td>\n",
              "      <td>50</td>\n",
              "      <td>360</td>\n",
              "      <td>...</td>\n",
              "      <td>0</td>\n",
              "      <td>0</td>\n",
              "      <td>0</td>\n",
              "      <td>0</td>\n",
              "      <td>0</td>\n",
              "      <td>0</td>\n",
              "      <td>0</td>\n",
              "      <td>0</td>\n",
              "      <td>1</td>\n",
              "      <td>0</td>\n",
              "    </tr>\n",
              "    <tr>\n",
              "      <th>2669</th>\n",
              "      <td>1.0</td>\n",
              "      <td>NaN</td>\n",
              "      <td>6</td>\n",
              "      <td>3</td>\n",
              "      <td>2019</td>\n",
              "      <td>19</td>\n",
              "      <td>19</td>\n",
              "      <td>4</td>\n",
              "      <td>0</td>\n",
              "      <td>900</td>\n",
              "      <td>...</td>\n",
              "      <td>0</td>\n",
              "      <td>0</td>\n",
              "      <td>0</td>\n",
              "      <td>0</td>\n",
              "      <td>0</td>\n",
              "      <td>0</td>\n",
              "      <td>0</td>\n",
              "      <td>0</td>\n",
              "      <td>1</td>\n",
              "      <td>0</td>\n",
              "    </tr>\n",
              "    <tr>\n",
              "      <th>2670</th>\n",
              "      <td>1.0</td>\n",
              "      <td>NaN</td>\n",
              "      <td>15</td>\n",
              "      <td>6</td>\n",
              "      <td>2019</td>\n",
              "      <td>19</td>\n",
              "      <td>19</td>\n",
              "      <td>4</td>\n",
              "      <td>55</td>\n",
              "      <td>840</td>\n",
              "      <td>...</td>\n",
              "      <td>0</td>\n",
              "      <td>0</td>\n",
              "      <td>0</td>\n",
              "      <td>0</td>\n",
              "      <td>0</td>\n",
              "      <td>0</td>\n",
              "      <td>0</td>\n",
              "      <td>0</td>\n",
              "      <td>1</td>\n",
              "      <td>0</td>\n",
              "    </tr>\n",
              "  </tbody>\n",
              "</table>\n",
              "<p>13351 rows × 39 columns</p>\n",
              "</div>\n",
              "      <button class=\"colab-df-convert\" onclick=\"convertToInteractive('df-70edf7f1-71db-4376-9fdd-eaba70b0407d')\"\n",
              "              title=\"Convert this dataframe to an interactive table.\"\n",
              "              style=\"display:none;\">\n",
              "        \n",
              "  <svg xmlns=\"http://www.w3.org/2000/svg\" height=\"24px\"viewBox=\"0 0 24 24\"\n",
              "       width=\"24px\">\n",
              "    <path d=\"M0 0h24v24H0V0z\" fill=\"none\"/>\n",
              "    <path d=\"M18.56 5.44l.94 2.06.94-2.06 2.06-.94-2.06-.94-.94-2.06-.94 2.06-2.06.94zm-11 1L8.5 8.5l.94-2.06 2.06-.94-2.06-.94L8.5 2.5l-.94 2.06-2.06.94zm10 10l.94 2.06.94-2.06 2.06-.94-2.06-.94-.94-2.06-.94 2.06-2.06.94z\"/><path d=\"M17.41 7.96l-1.37-1.37c-.4-.4-.92-.59-1.43-.59-.52 0-1.04.2-1.43.59L10.3 9.45l-7.72 7.72c-.78.78-.78 2.05 0 2.83L4 21.41c.39.39.9.59 1.41.59.51 0 1.02-.2 1.41-.59l7.78-7.78 2.81-2.81c.8-.78.8-2.07 0-2.86zM5.41 20L4 18.59l7.72-7.72 1.47 1.35L5.41 20z\"/>\n",
              "  </svg>\n",
              "      </button>\n",
              "      \n",
              "  <style>\n",
              "    .colab-df-container {\n",
              "      display:flex;\n",
              "      flex-wrap:wrap;\n",
              "      gap: 12px;\n",
              "    }\n",
              "\n",
              "    .colab-df-convert {\n",
              "      background-color: #E8F0FE;\n",
              "      border: none;\n",
              "      border-radius: 50%;\n",
              "      cursor: pointer;\n",
              "      display: none;\n",
              "      fill: #1967D2;\n",
              "      height: 32px;\n",
              "      padding: 0 0 0 0;\n",
              "      width: 32px;\n",
              "    }\n",
              "\n",
              "    .colab-df-convert:hover {\n",
              "      background-color: #E2EBFA;\n",
              "      box-shadow: 0px 1px 2px rgba(60, 64, 67, 0.3), 0px 1px 3px 1px rgba(60, 64, 67, 0.15);\n",
              "      fill: #174EA6;\n",
              "    }\n",
              "\n",
              "    [theme=dark] .colab-df-convert {\n",
              "      background-color: #3B4455;\n",
              "      fill: #D2E3FC;\n",
              "    }\n",
              "\n",
              "    [theme=dark] .colab-df-convert:hover {\n",
              "      background-color: #434B5C;\n",
              "      box-shadow: 0px 1px 3px 1px rgba(0, 0, 0, 0.15);\n",
              "      filter: drop-shadow(0px 1px 2px rgba(0, 0, 0, 0.3));\n",
              "      fill: #FFFFFF;\n",
              "    }\n",
              "  </style>\n",
              "\n",
              "      <script>\n",
              "        const buttonEl =\n",
              "          document.querySelector('#df-70edf7f1-71db-4376-9fdd-eaba70b0407d button.colab-df-convert');\n",
              "        buttonEl.style.display =\n",
              "          google.colab.kernel.accessAllowed ? 'block' : 'none';\n",
              "\n",
              "        async function convertToInteractive(key) {\n",
              "          const element = document.querySelector('#df-70edf7f1-71db-4376-9fdd-eaba70b0407d');\n",
              "          const dataTable =\n",
              "            await google.colab.kernel.invokeFunction('convertToInteractive',\n",
              "                                                     [key], {});\n",
              "          if (!dataTable) return;\n",
              "\n",
              "          const docLinkHtml = 'Like what you see? Visit the ' +\n",
              "            '<a target=\"_blank\" href=https://colab.research.google.com/notebooks/data_table.ipynb>data table notebook</a>'\n",
              "            + ' to learn more about interactive tables.';\n",
              "          element.innerHTML = '';\n",
              "          dataTable['output_type'] = 'display_data';\n",
              "          await google.colab.output.renderOutput(dataTable, element);\n",
              "          const docLink = document.createElement('div');\n",
              "          docLink.innerHTML = docLinkHtml;\n",
              "          element.appendChild(docLink);\n",
              "        }\n",
              "      </script>\n",
              "    </div>\n",
              "  </div>\n",
              "  "
            ],
            "text/plain": [
              "      Total_Stops    Price  Date  Month  Year  Arrival_Hour  Arrival_Min  \\\n",
              "0             0.0   3897.0    24      3  2019             1            1   \n",
              "1             2.0   7662.0     1      5  2019            13           13   \n",
              "2             2.0  13882.0     9      6  2019             4            4   \n",
              "3             1.0   6218.0    12      5  2019            23           23   \n",
              "4             1.0  13302.0     1      3  2019            21           21   \n",
              "...           ...      ...   ...    ...   ...           ...          ...   \n",
              "2666          1.0      NaN     6      6  2019            20           20   \n",
              "2667          0.0      NaN    27      3  2019            16           16   \n",
              "2668          1.0      NaN     6      3  2019             4            4   \n",
              "2669          1.0      NaN     6      3  2019            19           19   \n",
              "2670          1.0      NaN    15      6  2019            19           19   \n",
              "\n",
              "      Dep_Hour  Dep_Min  Duration_Min  ...  Destination_5  Additional_Info_1  \\\n",
              "0           22       20           120  ...              1                  0   \n",
              "1            5       50           420  ...              0                  0   \n",
              "2            9       25          1140  ...              0                  0   \n",
              "3           18        5           300  ...              0                  0   \n",
              "4           16       50           240  ...              1                  0   \n",
              "...        ...      ...           ...  ...            ...                ...   \n",
              "2666        20       30          1380  ...              0                  0   \n",
              "2667        14       20           120  ...              0                  0   \n",
              "2668        21       50           360  ...              0                  0   \n",
              "2669         4        0           900  ...              0                  0   \n",
              "2670         4       55           840  ...              0                  0   \n",
              "\n",
              "      Additional_Info_2  Additional_Info_3  Additional_Info_4  \\\n",
              "0                     0                  0                  0   \n",
              "1                     0                  0                  0   \n",
              "2                     0                  0                  0   \n",
              "3                     0                  0                  0   \n",
              "4                     0                  0                  0   \n",
              "...                 ...                ...                ...   \n",
              "2666                  0                  0                  0   \n",
              "2667                  0                  0                  0   \n",
              "2668                  0                  0                  0   \n",
              "2669                  0                  0                  0   \n",
              "2670                  0                  0                  0   \n",
              "\n",
              "      Additional_Info_5  Additional_Info_6  Additional_Info_7  \\\n",
              "0                     0                  0                  0   \n",
              "1                     0                  0                  0   \n",
              "2                     0                  0                  0   \n",
              "3                     0                  0                  0   \n",
              "4                     0                  0                  0   \n",
              "...                 ...                ...                ...   \n",
              "2666                  0                  0                  0   \n",
              "2667                  0                  0                  0   \n",
              "2668                  0                  0                  0   \n",
              "2669                  0                  0                  0   \n",
              "2670                  0                  0                  0   \n",
              "\n",
              "      Additional_Info_8  Additional_Info_9  \n",
              "0                     1                  0  \n",
              "1                     1                  0  \n",
              "2                     1                  0  \n",
              "3                     1                  0  \n",
              "4                     1                  0  \n",
              "...                 ...                ...  \n",
              "2666                  1                  0  \n",
              "2667                  1                  0  \n",
              "2668                  1                  0  \n",
              "2669                  1                  0  \n",
              "2670                  1                  0  \n",
              "\n",
              "[13351 rows x 39 columns]"
            ]
          },
          "metadata": {},
          "execution_count": 90
        }
      ]
    },
    {
      "cell_type": "code",
      "source": [
        "final_df.head()"
      ],
      "metadata": {
        "id": "_ovHUVBZc-De"
      },
      "execution_count": null,
      "outputs": []
    },
    {
      "cell_type": "code",
      "source": [
        "final_df.info()"
      ],
      "metadata": {
        "colab": {
          "base_uri": "https://localhost:8080/"
        },
        "id": "_kvf1lw-fz9u",
        "outputId": "e7f12ac8-3f5f-414f-a625-a2ad1f4618a5"
      },
      "execution_count": 89,
      "outputs": [
        {
          "output_type": "stream",
          "name": "stdout",
          "text": [
            "<class 'pandas.core.frame.DataFrame'>\n",
            "Int64Index: 13351 entries, 0 to 2670\n",
            "Data columns (total 14 columns):\n",
            " #   Column           Non-Null Count  Dtype  \n",
            "---  ------           --------------  -----  \n",
            " 0   Airline          13351 non-null  int64  \n",
            " 1   Source           13351 non-null  int64  \n",
            " 2   Destination      13351 non-null  int64  \n",
            " 3   Total_Stops      13350 non-null  float64\n",
            " 4   Additional_Info  13351 non-null  int64  \n",
            " 5   Price            10681 non-null  float64\n",
            " 6   Date             13351 non-null  int64  \n",
            " 7   Month            13351 non-null  int64  \n",
            " 8   Year             13351 non-null  int64  \n",
            " 9   Arrival_Hour     13351 non-null  int64  \n",
            " 10  Arrival_Min      13351 non-null  int64  \n",
            " 11  Dep_Hour         13351 non-null  int64  \n",
            " 12  Dep_Min          13351 non-null  int64  \n",
            " 13  Duration_Min     13351 non-null  int64  \n",
            "dtypes: float64(2), int64(12)\n",
            "memory usage: 1.5 MB\n"
          ]
        }
      ]
    }
  ]
}