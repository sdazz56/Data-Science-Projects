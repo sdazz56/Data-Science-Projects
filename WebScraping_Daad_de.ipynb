{
  "nbformat": 4,
  "nbformat_minor": 0,
  "metadata": {
    "colab": {
      "name": "WebScraping Daad.de.ipynb",
      "provenance": [],
      "collapsed_sections": []
    },
    "kernelspec": {
      "name": "python3",
      "display_name": "Python 3"
    },
    "language_info": {
      "name": "python"
    }
  },
  "cells": [
    {
      "cell_type": "code",
      "metadata": {
        "id": "ER8SuQh5JgGP"
      },
      "source": [
        "import requests\n",
        "from bs4 import BeautifulSoup\n",
        "url=\"https://www.daad.de/en/\" "
      ],
      "execution_count": null,
      "outputs": []
    },
    {
      "cell_type": "markdown",
      "metadata": {
        "id": "dXngQ9erMY0A"
      },
      "source": [
        "Step 1: Get the HTML\n",
        "Step 2: Parse the html\n",
        "Step 3: HTML tree traversal"
      ]
    },
    {
      "cell_type": "code",
      "metadata": {
        "id": "km3Qy9QOMj3k"
      },
      "source": [
        "#Step 1: Get the HTML \n",
        "r= requests.get(url)\n",
        "htmlContent=r.content\n",
        "print(htmlContent)\n",
        "r.status_code"
      ],
      "execution_count": null,
      "outputs": []
    },
    {
      "cell_type": "code",
      "metadata": {
        "id": "EJfSLk1jNNEL"
      },
      "source": [
        "#Step 2: Parse the html\n",
        "soup=BeautifulSoup(htmlContent)\n",
        "print(soup)"
      ],
      "execution_count": null,
      "outputs": []
    },
    {
      "cell_type": "code",
      "metadata": {
        "colab": {
          "base_uri": "https://localhost:8080/"
        },
        "id": "hRzXRtTmOiuF",
        "outputId": "b918b1fe-ad8c-4476-c85e-c2b9a8d80d63"
      },
      "source": [
        "#Step 3: HTML tree traversal\n",
        "#Commonly used types of objexts\n",
        "#1.print(type(title)) Tag\n",
        "#2.print(type(title.string)) Navigable String\n",
        "#3.print(type(soup)) BeautifulSoup\n",
        "#4.Comment\n",
        "\n",
        "title=soup.title\n",
        "\n",
        "#getting all the paras\n",
        "paras=soup.find_all('p')\n",
        "print(paras)"
      ],
      "execution_count": null,
      "outputs": [
        {
          "output_type": "stream",
          "name": "stdout",
          "text": [
            "[<p class=\"links mt-romania@xl u-size-haiti u-position-absolute u-w-100\" data-v-b12332a0=\"\"><a class=\"links__item sr-only sr-only-focusable qa-focusable\" data-v-b12332a0=\"\" href=\"#content\" id=\"start\">\n",
            "            Jump to content\n",
            "        </a></p>, <p class=\"qa-stage-contents__subline mb-honduras u-size-haiti u-size-austria@md u-spaced-capitals u-text-structure\" data-v-5022e67a=\"\"></p>, <p class=\"qa-stage-contents__text mb-romania px-cameroon u-size-haiti u-size-austria@md u-text-structure\" data-v-5022e67a=\"\">As a reaction to German universities' information needs concerning the situation in Afghanistan, the DAAD has established a contact point where they can get advice concerning their cooperation projects</p>, <p class=\"ml-honduras mb-0\" data-v-7095e9b7=\"\" data-v-9bbc5ed0=\"\"><a class=\"qa-top-button top-button u-background-slightly u-circle p-0\" data-v-9bbc5ed0=\"\" href=\"#header\" role=\"button\" style=\"display:none;\"><span class=\"u-display-flex u-items-center u-justify-center u-h-100\" data-v-9bbc5ed0=\"\"><svg aria-hidden=\"false\" aria-labelledby=\"title-1e7c1042b6a06ecbc\" class=\"svg-icon--top-button svg-icon svg-icon--pointer\" data-v-9bbc5ed0=\"\" focusable=\"false\" height=\"16\" role=\"img\" width=\"16\"><title id=\"title-1e7c1042b6a06ecbc\">Jump to top of page</title><!-- --><use xlink:href=\"/_nuxt/d16921dd1a8a281157786520dd81c439.svg#i-pointer\"></use></svg></span></a></p>, <p class=\"snoop-modal__introduction\">I am at least 16 years old and agree that the DAAD (Deutscher Akademischer Austauschdienst e.V., Kennedyallee, 53175 Bonn) and <a class=\"u-decoration-underline\" href=\"https://www.daad.de/en/data-privacy-statement/#google-analytics\" target=\"_blank\">third parties</a> may use cookies and process information about my use of the DAAD website and previously visited websites. Individual purposes and third parties can be taken from the following list and excluded from my consent. If the use of a cookie enables access to my data from a third country (outside the European Economic Area), my respective consent also expressly refers to this. My consent is voluntary and I can revoke it at any time with future effect in the cookie center. This is linked in the <a class=\"u-decoration-underline\" href=\"https://www.daad.de/en/data-privacy-statement/\" target=\"_blank\">privacy policy</a>.</p>, <p class=\"snoop-cookie-list__description\">By setting these cookies, the DAAD aims to continuously improve this website and to analyse visitors' usage behaviour by evaluating which website the visitor comes from and what content he or she views (for how long).</p>, <p class=\"snoop-cookie-details__additional-content\"><strong>Categories of personal data:</strong> Date and time of the visit, usage data (visits, page views/clicks), click path, browser information (browser type, version), device information (operating system; smartphone/tablet/PC), referring pages/referrer URL (from which page do users come to the DAAD website?), closed pages (from which page do users go away from daad.de?), files and downloads displayed, location information (country).</p>, <p class=\"snoop-cookie-list__description\">This cookie is used for user authentication for the DAAD chatbot. For this purpose, an anonymised, randomly generated ID is used.</p>, <p class=\"snoop-cookie-list__description\">This cookie prevents the banner with important news from being displayed whenever you visit this website.</p>, <p class=\"snoop-form-group__disabled-label\" id=\"cookie-sticky-modal-disabled-hint\">Cannot be unselected</p>, <p class=\"snoop-cookie-list__description\">This cookie prevents the banner with important news from being displayed whenever you visit this website.</p>, <p class=\"snoop-form-group__disabled-label\" id=\"cookie-session-disabled-hint\">Cannot be unselected</p>, <p class=\"snoop-cookie-list__description\">This cookie is necessary to authenticate users in various databases and to use forms.</p>, <p class=\"snoop-form-group__disabled-label\" id=\"cookie-daad-cookie-consent-disabled-hint\">Cannot be unselected</p>, <p class=\"snoop-cookie-list__description\">This cookie saves your cookie settings and prevents the cookie banner from being displayed whenever you visit this website.</p>]\n"
          ]
        }
      ]
    },
    {
      "cell_type": "code",
      "metadata": {
        "colab": {
          "base_uri": "https://localhost:8080/"
        },
        "id": "g8504QEgSMmp",
        "outputId": "28c6ef16-cdd1-4a11-9cd6-41ff6583872c"
      },
      "source": [
        "#to get the first para\n",
        "print(soup.find('p'))"
      ],
      "execution_count": null,
      "outputs": [
        {
          "output_type": "stream",
          "name": "stdout",
          "text": [
            "<p class=\"links mt-romania@xl u-size-haiti u-position-absolute u-w-100\" data-v-b12332a0=\"\"><a class=\"links__item sr-only sr-only-focusable qa-focusable\" data-v-b12332a0=\"\" href=\"#content\" id=\"start\">\n",
            "            Jump to content\n",
            "        </a></p>\n",
            "['links', 'mt-romania@xl', 'u-size-haiti', 'u-position-absolute', 'u-w-100']\n",
            "[<p class=\"links mt-romania@xl u-size-haiti u-position-absolute u-w-100\" data-v-b12332a0=\"\"><a class=\"links__item sr-only sr-only-focusable qa-focusable\" data-v-b12332a0=\"\" href=\"#content\" id=\"start\">\n",
            "            Jump to content\n",
            "        </a></p>]\n"
          ]
        }
      ]
    },
    {
      "cell_type": "code",
      "metadata": {
        "colab": {
          "base_uri": "https://localhost:8080/"
        },
        "id": "qyIIsJi2QNkj",
        "outputId": "8789dad4-fa88-4d4c-9276-ca4e8142e7f1"
      },
      "source": [
        "#to get the class in first para\n",
        "print(soup.find('p')['class'])"
      ],
      "execution_count": null,
      "outputs": [
        {
          "output_type": "stream",
          "name": "stdout",
          "text": [
            "['links', 'mt-romania@xl', 'u-size-haiti', 'u-position-absolute', 'u-w-100']\n"
          ]
        }
      ]
    },
    {
      "cell_type": "code",
      "metadata": {
        "colab": {
          "base_uri": "https://localhost:8080/"
        },
        "id": "hLgSaczKQQgt",
        "outputId": "da6e40be-143d-443c-f13c-b477b91eb7d5"
      },
      "source": [
        "#to get all the elements with class links\n",
        "print(soup.find_all('p',class_='links'))"
      ],
      "execution_count": null,
      "outputs": [
        {
          "output_type": "stream",
          "name": "stdout",
          "text": [
            "[<p class=\"links mt-romania@xl u-size-haiti u-position-absolute u-w-100\" data-v-b12332a0=\"\"><a class=\"links__item sr-only sr-only-focusable qa-focusable\" data-v-b12332a0=\"\" href=\"#content\" id=\"start\">\n",
            "            Jump to content\n",
            "        </a></p>]\n"
          ]
        }
      ]
    },
    {
      "cell_type": "code",
      "metadata": {
        "id": "NBwkv35GVZAg",
        "colab": {
          "base_uri": "https://localhost:8080/"
        },
        "outputId": "563fa82b-a16f-484d-d63e-17e4fb2e9ea2"
      },
      "source": [
        "#Getting text from tags\n",
        "print(soup.find('p').get_text())"
      ],
      "execution_count": null,
      "outputs": [
        {
          "output_type": "stream",
          "name": "stdout",
          "text": [
            "\n",
            "            Jump to content\n",
            "        \n"
          ]
        }
      ]
    },
    {
      "cell_type": "code",
      "metadata": {
        "id": "AaqPt2u0QbaE"
      },
      "source": [
        "#Getting text from soup\n",
        "print(soup.get_text)"
      ],
      "execution_count": null,
      "outputs": []
    },
    {
      "cell_type": "code",
      "metadata": {
        "id": "OLZCxnXzS173"
      },
      "source": [
        "#getting all links from anchor tags\n",
        "anchors=soup.find_all('a')\n",
        "all_links=set()\n",
        "for link in anchors:\n",
        "  if(link.get('href')!='#'):\n",
        "    link_Text=\"https://www.daad.de\" +link.get('href')\n",
        "    all_links.add(link)\n",
        "    print(link_Text)"
      ],
      "execution_count": null,
      "outputs": []
    }
  ]
}