import requests
from bs4 import BeautifulSoup
url="https://www.daad.de/en/" 

#Step 1: Get the HTML
#Step 2: Parse the html
#Step 3: HTML tree traversal

#Step 1: Get the HTML 
r= requests.get(url)
htmlContent=r.content
print(htmlContent)
r.status_code

#Step 2: Parse the html
soup=BeautifulSoup(htmlContent)
print(soup)

#Step 3: HTML tree traversal
#Commonly used types of objexts
#1.print(type(title)) Tag
#2.print(type(title.string)) Navigable String
#3.print(type(soup)) BeautifulSoup
#4.Comment

title=soup.title

#getting all the paras
paras=soup.find_all('p')
print(paras)

#to get the first para
print(soup.find('p'))

#to get the class in first para
print(soup.find('p')['class'])

#to get all the elements with class links
print(soup.find_all('p',class_='links'))

#Getting text from tags
print(soup.find('p').get_text())

#Getting text from soup
print(soup.get_text)

#getting all links from anchor tags
anchors=soup.find_all('a')
all_links=set()
for link in anchors:
  if(link.get('href')!='#'):
    link_Text="https://www.daad.de" +link.get('href')
    all_links.add(link)
    print(link_Text)
