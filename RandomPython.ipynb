{
  "nbformat": 4,
  "nbformat_minor": 0,
  "metadata": {
    "colab": {
      "name": "RandomPython",
      "provenance": [],
      "authorship_tag": "ABX9TyPtH0fWVR5k4b8VuWn86wd6",
      "include_colab_link": true
    },
    "kernelspec": {
      "name": "python3",
      "display_name": "Python 3"
    },
    "language_info": {
      "name": "python"
    }
  },
  "cells": [
    {
      "cell_type": "markdown",
      "metadata": {
        "id": "view-in-github",
        "colab_type": "text"
      },
      "source": [
        "<a href=\"https://colab.research.google.com/github/sdazz56/Data-Science-Projects/blob/main/RandomPython.ipynb\" target=\"_parent\"><img src=\"https://colab.research.google.com/assets/colab-badge.svg\" alt=\"Open In Colab\"/></a>"
      ]
    },
    {
      "cell_type": "code",
      "execution_count": 1,
      "metadata": {
        "colab": {
          "base_uri": "https://localhost:8080/"
        },
        "id": "P2b4CjTeXDzj",
        "outputId": "1b5729c5-9922-4537-9864-8f3b2e7e1d5c"
      },
      "outputs": [
        {
          "output_type": "stream",
          "name": "stdout",
          "text": [
            "3\n"
          ]
        }
      ],
      "source": [
        "import random\n",
        "num=random.randint(-10,10)\n",
        "print(num)"
      ]
    },
    {
      "cell_type": "code",
      "source": [
        "fruits=['apple','banana']\n",
        "f=random.choice(fruits)\n",
        "print(f)"
      ],
      "metadata": {
        "colab": {
          "base_uri": "https://localhost:8080/"
        },
        "id": "T0fjjEymYcE3",
        "outputId": "1781ec62-f280-4b85-e475-ad675e1aad35"
      },
      "execution_count": 4,
      "outputs": [
        {
          "output_type": "stream",
          "name": "stdout",
          "text": [
            "banana\n"
          ]
        }
      ]
    },
    {
      "cell_type": "code",
      "source": [
        "name='BrightChapms'\n",
        "c=random.choice(name)\n",
        "print(c)"
      ],
      "metadata": {
        "colab": {
          "base_uri": "https://localhost:8080/"
        },
        "id": "AEX7629OYj8K",
        "outputId": "b4415748-9c89-4ec0-ba61-2fc85c92c78e"
      },
      "execution_count": 3,
      "outputs": [
        {
          "output_type": "stream",
          "name": "stdout",
          "text": [
            "B\n"
          ]
        }
      ]
    },
    {
      "cell_type": "code",
      "source": [
        "name=\"Greatpeople\"\n",
        "for i in name:\n",
        "  if i=='p':\n",
        "    print(\"P\",end='')\n",
        "  else:\n",
        "    print(i,end='')"
      ],
      "metadata": {
        "colab": {
          "base_uri": "https://localhost:8080/"
        },
        "id": "xIEZm27sZLi5",
        "outputId": "e3a14865-2014-4af5-b80b-6a672642eb77"
      },
      "execution_count": 6,
      "outputs": [
        {
          "output_type": "stream",
          "name": "stdout",
          "text": [
            "GreatPeoPle"
          ]
        }
      ]
    },
    {
      "cell_type": "code",
      "source": [
        "import random\n",
        "print(\"Welcome to rock-paper-scissors game\")\n",
        "user=input(\"Enter your choice: \")\n",
        "option=['rock','paper','scissor']\n",
        "computer= random.choice(option)\n",
        "print(\"users choice:\",user)\n",
        "print(\"computers chocie:\",computer)\n",
        "if computer==user:\n",
        "  print(\"tie\")\n",
        "elif user == \"rock\":\n",
        "  if computer==\"paper\":\n",
        "    print(\"computer wins\")\n",
        "  else:\n",
        "    print(\"user wins\")\n",
        "elif user ==\"paper\":\n",
        "  if computer==\"scissor\":\n",
        "    print(\"computer wins\")\n",
        "  else:\n",
        "    print(\"user wins\")\n",
        "elif user == \"scissor\":\n",
        "  if computer==\"rock\":\n",
        "    print(\"computer wins\")\n",
        "  else:\n",
        "    print(\"user wins\")\n"
      ],
      "metadata": {
        "colab": {
          "base_uri": "https://localhost:8080/"
        },
        "id": "36K3n1vtcakT",
        "outputId": "e72f9dee-5412-4b7d-85d2-fa8a35b7e8de"
      },
      "execution_count": 13,
      "outputs": [
        {
          "output_type": "stream",
          "name": "stdout",
          "text": [
            "Welcome to rock-paper-scissors game\n",
            "Enter your choice: paper\n",
            "users choice: paper\n",
            "computers chocie: rock\n",
            "user wins\n"
          ]
        }
      ]
    },
    {
      "cell_type": "code",
      "source": [
        ""
      ],
      "metadata": {
        "id": "YwXjTkRYnWP6"
      },
      "execution_count": null,
      "outputs": []
    }
  ]
}