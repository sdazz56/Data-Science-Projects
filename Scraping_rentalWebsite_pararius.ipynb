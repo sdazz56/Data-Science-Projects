{
  "nbformat": 4,
  "nbformat_minor": 0,
  "metadata": {
    "colab": {
      "name": "Scraping-rentalWebsite-pararius.ipynb",
      "provenance": [],
      "collapsed_sections": []
    },
    "kernelspec": {
      "name": "python3",
      "display_name": "Python 3"
    },
    "language_info": {
      "name": "python"
    }
  },
  "cells": [
    {
      "cell_type": "code",
      "metadata": {
        "id": "Nbfs_G9cXSgX"
      },
      "source": [
        "import bs4\n",
        "from bs4 import BeautifulSoup\n",
        "import requests \n",
        "import csv\n",
        "from csv import writer"
      ],
      "execution_count": null,
      "outputs": []
    },
    {
      "cell_type": "code",
      "metadata": {
        "id": "NPzBOm9Xc_wf"
      },
      "source": [
        "url=\"https://www.pararius.com/apartments/amsterdam?ac=1\"\n",
        "response=requests.get(url)\n",
        "response.status_code"
      ],
      "execution_count": null,
      "outputs": []
    },
    {
      "cell_type": "code",
      "metadata": {
        "id": "-juaeb2heThn"
      },
      "source": [
        "soup=BeautifulSoup(response.content, 'html.parser')\n",
        "print(soup.prettify)"
      ],
      "execution_count": null,
      "outputs": []
    },
    {
      "cell_type": "code",
      "metadata": {
        "id": "8bMYZKjbdM-n"
      },
      "source": [
        "print(soup.find_all('section',class_='listing-search-item'))"
      ],
      "execution_count": null,
      "outputs": []
    },
    {
      "cell_type": "code",
      "metadata": {
        "id": "CoEiyIgYolDE"
      },
      "source": [
        "lists=soup.find_all('section',class_='listing-search-item') \n",
        "#class_ is used bcoz its not a python class its a css class"
      ],
      "execution_count": null,
      "outputs": []
    },
    {
      "cell_type": "code",
      "metadata": {
        "id": "Q86_mhzZdFQp"
      },
      "source": [
        "with open('housing.csv','w',encoding='utf8',newline='')as f:\n",
        "  thewriter = writer(f)\n",
        "  header=['Title','Location','Price','Area','Rooms']\n",
        "  thewriter.writerow(header)\n",
        "  for list in lists:\n",
        "    title=list.find('a',class_='listing-search-item__link--title').text.replace('\\n',\" \").strip()\n",
        "    location=list.find('div',class_='listing-search-item__location').text.replace('\\n',\" \").strip() \n",
        "    price=list.find('div',class_='listing-search-item__price').text.replace('\\n',\" \").strip()\n",
        "    area=list.find('li',class_='illustrated-features__item--surface-area').text.replace('\\n',\" \").strip() \n",
        "    rooms=list.find('li',class_='illustrated-features__item--number-of-rooms').text.replace('\\n',\" \").strip()\n",
        "    info=[title,location,price,area,rooms]\n",
        "    thewriter.writerow(info)\n",
        "    "
      ],
      "execution_count": null,
      "outputs": []
    },
    {
      "cell_type": "code",
      "metadata": {
        "id": "787RCTKLinqZ"
      },
      "source": [
        ""
      ],
      "execution_count": null,
      "outputs": []
    }
  ]
}