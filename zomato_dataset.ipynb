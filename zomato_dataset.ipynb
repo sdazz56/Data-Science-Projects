{
  "nbformat": 4,
  "nbformat_minor": 0,
  "metadata": {
    "colab": {
      "name": "zomato_dataset.ipynb",
      "provenance": [],
      "collapsed_sections": [],
      "authorship_tag": "ABX9TyMvk+TQt5sA9sC5/XdL57xE",
      "include_colab_link": true
    },
    "kernelspec": {
      "name": "python3",
      "display_name": "Python 3"
    },
    "language_info": {
      "name": "python"
    }
  },
  "cells": [
    {
      "cell_type": "markdown",
      "metadata": {
        "id": "view-in-github",
        "colab_type": "text"
      },
      "source": [
        "<a href=\"https://colab.research.google.com/github/sdazz56/Data-Science-Projects/blob/main/zomato_dataset.ipynb\" target=\"_parent\"><img src=\"https://colab.research.google.com/assets/colab-badge.svg\" alt=\"Open In Colab\"/></a>"
      ]
    },
    {
      "cell_type": "code",
      "execution_count": null,
      "metadata": {
        "id": "Do5Ua6LJpz5v"
      },
      "outputs": [],
      "source": [
        "#zomato dataset EDA"
      ]
    },
    {
      "cell_type": "code",
      "source": [
        "import pandas as pd\n",
        "import numpy as np\n",
        "import matplotlib.pyplot as plt\n",
        "import seaborn as sns\n",
        "%matplotlib inline"
      ],
      "metadata": {
        "id": "VTubsWrDn49d"
      },
      "execution_count": null,
      "outputs": []
    },
    {
      "cell_type": "code",
      "source": [
        "df=pd.read_csv('/content/zomato.csv',encoding='latin-1')\n",
        "df.head()"
      ],
      "metadata": {
        "id": "0ib8dDrcoHVE"
      },
      "execution_count": null,
      "outputs": []
    },
    {
      "cell_type": "code",
      "source": [
        "df.columns"
      ],
      "metadata": {
        "id": "8OC0W2-luHVg"
      },
      "execution_count": null,
      "outputs": []
    },
    {
      "cell_type": "code",
      "source": [
        "df.info() #objects- strings, categorical variable, integer"
      ],
      "metadata": {
        "id": "2rcqRe0VuUAr"
      },
      "execution_count": null,
      "outputs": []
    },
    {
      "cell_type": "code",
      "source": [
        "df.describe()"
      ],
      "metadata": {
        "id": "mshk8XhVtuD8"
      },
      "execution_count": null,
      "outputs": []
    },
    {
      "cell_type": "markdown",
      "source": [
        "In data analysis what all things we do\n",
        "1. Missing Values\n",
        "2. Explore about numerical variables\n",
        "3. Explore categorical variable\n",
        "4. Finding relationship between features"
      ],
      "metadata": {
        "id": "4Z-t61Oc1BPR"
      }
    },
    {
      "cell_type": "code",
      "source": [
        "df.isnull().sum()"
      ],
      "metadata": {
        "id": "o1wNLeq80mid"
      },
      "execution_count": null,
      "outputs": []
    },
    {
      "cell_type": "code",
      "source": [
        "[features for features in df.columns if df[features].isnull().sum()>0 ]"
      ],
      "metadata": {
        "id": "DrajOLJI1JOk"
      },
      "execution_count": null,
      "outputs": []
    },
    {
      "cell_type": "code",
      "source": [
        "df_country=pd.read_excel('/content/Country-Code.xlsx')\n",
        "df_country"
      ],
      "metadata": {
        "id": "xbkK8jtA2VSQ"
      },
      "execution_count": null,
      "outputs": []
    },
    {
      "cell_type": "code",
      "source": [
        "final_df=pd.merge(df,df_country,on='Country Code', how='left')\n",
        "final_df.head(2)"
      ],
      "metadata": {
        "id": "8Vbf77mi2rWg"
      },
      "execution_count": null,
      "outputs": []
    },
    {
      "cell_type": "code",
      "source": [
        "final_df.dtypes"
      ],
      "metadata": {
        "id": "Y7Ey4abM35J0"
      },
      "execution_count": null,
      "outputs": []
    },
    {
      "cell_type": "code",
      "source": [
        "final_df.columns"
      ],
      "metadata": {
        "id": "8qUbvOeO391K"
      },
      "execution_count": null,
      "outputs": []
    },
    {
      "cell_type": "code",
      "source": [
        "country_names=final_df.Country.value_counts().index"
      ],
      "metadata": {
        "id": "dsXv61RA4PXK"
      },
      "execution_count": 29,
      "outputs": []
    },
    {
      "cell_type": "code",
      "source": [
        "country_val=final_df.Country.value_counts().values"
      ],
      "metadata": {
        "id": "sdF3qFNB4fc0"
      },
      "execution_count": 31,
      "outputs": []
    },
    {
      "cell_type": "code",
      "source": [
        "plt.pie(country_val[:3],labels=country_names[:3],shadow=True,autopct='%1.2f%%') #Top 3 countries"
      ],
      "metadata": {
        "colab": {
          "base_uri": "https://localhost:8080/",
          "height": 412
        },
        "id": "qFZNYkL64sdL",
        "outputId": "fa3a00fb-6edb-49fd-8971-0586e7056f7a"
      },
      "execution_count": 37,
      "outputs": [
        {
          "output_type": "execute_result",
          "data": {
            "text/plain": [
              "([<matplotlib.patches.Wedge at 0x7fd41cb20b90>,\n",
              "  <matplotlib.patches.Wedge at 0x7fd41cb2d550>,\n",
              "  <matplotlib.patches.Wedge at 0x7fd41cb36190>],\n",
              " [Text(-1.0829742700952103, 0.19278674827836725, 'India'),\n",
              "  Text(1.077281715838356, -0.22240527134123297, 'United States'),\n",
              "  Text(1.0995865153823035, -0.03015783794312073, 'United Kingdom')],\n",
              " [Text(-0.590713238233751, 0.10515640815183668, '94.39%'),\n",
              "  Text(0.5876082086391032, -0.12131196618612707, '4.73%'),\n",
              "  Text(0.5997744629358018, -0.01644972978715676, '0.87%')])"
            ]
          },
          "metadata": {},
          "execution_count": 37
        },
        {
          "output_type": "display_data",
          "data": {
            "image/png": "[encoded data removed]",
            "text/plain": [
              "<Figure size 432x288 with 1 Axes>"
            ]
          },
          "metadata": {}
        }
      ]
    },
    {
      "cell_type": "markdown",
      "source": [
        "Observation: Zomato max records are from india which is 94.4% thereafter US and then UK with 4.7% and 0.9% respectively."
      ],
      "metadata": {
        "id": "asu7mIX_6ap3"
      }
    },
    {
      "cell_type": "code",
      "source": [
        "ratings=final_df.groupby(['Aggregate rating','Rating color','Rating text']).size().reset_index().rename(columns={0:'Rating Count'})"
      ],
      "metadata": {
        "id": "Adz1oRWK6vX7"
      },
      "execution_count": 45,
      "outputs": []
    },
    {
      "cell_type": "code",
      "source": [
        "rating"
      ],
      "metadata": {
        "id": "U5T0x4zx7oCc"
      },
      "execution_count": null,
      "outputs": []
    },
    {
      "cell_type": "markdown",
      "source": [
        "Observation\n",
        "\n",
        "\n",
        "1.rating between 4.5 to 4.9---> Excellent\n",
        "\n",
        "\n",
        "2.rating between 4.0 to 4.4---> verygood\n",
        "\n",
        "\n",
        "3.rating between 3.5 to 3.9---> good\n",
        "\n",
        "\n",
        "4.rating between 3.0 to 3.4---> average\n",
        "\n",
        "\n",
        "5.rating between 2.5 to 2.9---> average\n",
        "\n",
        "\n",
        "6.rating between 1.8 to 2.4---> poor"
      ],
      "metadata": {
        "id": "h6dCS9gE9Iij"
      }
    },
    {
      "cell_type": "code",
      "source": [
        "plt.rcParams['figure.figsize']=(12,6)\n",
        "sns.barplot(x=\"Aggregate rating\",y=\"Rating Count\",data= ratings)"
      ],
      "metadata": {
        "id": "HtUlLhN5-PXm"
      },
      "execution_count": null,
      "outputs": []
    },
    {
      "cell_type": "code",
      "source": [
        "sns.barplot(x=\"Aggregate rating\",y=\"Rating Count\",hue='Rating color',palette=['white','red','orange','yellow','green','green'],data= ratings)"
      ],
      "metadata": {
        "id": "uj7ZybU4_wXI"
      },
      "execution_count": null,
      "outputs": []
    },
    {
      "cell_type": "markdown",
      "source": [
        "Observation:\n",
        "\n",
        "\n",
        "1.Not rated count is very high\n",
        "\n",
        "2.Max number of rating are between 2.5 to 3.4"
      ],
      "metadata": {
        "id": "oyqE_5LrAuCV"
      }
    },
    {
      "cell_type": "code",
      "source": [
        "sns.countplot(x=\"Rating color\",palette=['blue','red','orange','yellow','green','green'],data= ratings)"
      ],
      "metadata": {
        "id": "fanrp6L2A68b"
      },
      "execution_count": null,
      "outputs": []
    },
    {
      "cell_type": "code",
      "source": [
        "##Find the countries name that has given 0 rating\n",
        "\n",
        "final_df.groupby(['Aggregate rating','Country']).size().reset_index().head(5)"
      ],
      "metadata": {
        "id": "cvcKbEtSB4nS"
      },
      "execution_count": null,
      "outputs": []
    },
    {
      "cell_type": "code",
      "source": [
        "##Find out which currency is used by which country\n",
        "\n",
        "final_df[['Country','Currency']].groupby(['Country','Currency']).size().reset_index().head()"
      ],
      "metadata": {
        "id": "FvtUziBaFCSG"
      },
      "execution_count": null,
      "outputs": []
    },
    {
      "cell_type": "code",
      "source": [
        "#Which coutries do have online delieveries option\n",
        "final_df[['Country','Has Online delivery']].groupby(['Country','Has Online delivery']).size().reset_index()\n"
      ],
      "metadata": {
        "id": "vivmykiNGhd_"
      },
      "execution_count": null,
      "outputs": []
    },
    {
      "cell_type": "markdown",
      "source": [
        "Observation:\n",
        "\n",
        "\n",
        "Online delieveries only available in India and UAE"
      ],
      "metadata": {
        "id": "VJ9vI9R6HYKR"
      }
    },
    {
      "cell_type": "code",
      "source": [
        "#Pie chart for cities distribution\n",
        "city_values=final_df.City.value_counts().values\n",
        "city_labels=final_df.City.value_counts().index\n",
        "plt.pie(city_values[:5],labels=city_labels[:5])"
      ],
      "metadata": {
        "id": "v53F1vwsHdeH"
      },
      "execution_count": null,
      "outputs": []
    },
    {
      "cell_type": "code",
      "source": [
        "#Find top 10 cuisines\n",
        "cuisine_values=final_df.Cuisines.value_counts().values\n",
        "cuisine_label=final_df.Cuisines.value_counts().index"
      ],
      "metadata": {
        "id": "gDQYN4DxJHA5"
      },
      "execution_count": 79,
      "outputs": []
    },
    {
      "cell_type": "code",
      "source": [
        "plt.pie(cuisine_values[:5],labels=cuisine_label[:5])"
      ],
      "metadata": {
        "colab": {
          "base_uri": "https://localhost:8080/",
          "height": 539
        },
        "id": "PMbDQ1AAKbmo",
        "outputId": "e7012520-9d3c-42f9-f77e-6dfd6dc159bf"
      },
      "execution_count": 81,
      "outputs": [
        {
          "output_type": "execute_result",
          "data": {
            "text/plain": [
              "([<matplotlib.patches.Wedge at 0x7fd41b7e8fd0>,\n",
              "  <matplotlib.patches.Wedge at 0x7fd41b7e8c50>,\n",
              "  <matplotlib.patches.Wedge at 0x7fd41b6ff2d0>,\n",
              "  <matplotlib.patches.Wedge at 0x7fd41b6ff9d0>,\n",
              "  <matplotlib.patches.Wedge at 0x7fd41b6cb190>],\n",
              " [Text(0.4175823090707363, 1.0176566292965188, 'North Indian'),\n",
              "  Text(-1.090169487983684, 0.14673270756512372, 'North Indian, Chinese'),\n",
              "  Text(-0.6326704341218391, -0.8998489438722946, 'Chinese'),\n",
              "  Text(0.3048764124205039, -1.0569060379946758, 'Fast Food'),\n",
              "  Text(1.0036916287969155, -0.45011455684413826, 'North Indian, Mughlai')])"
            ]
          },
          "metadata": {},
          "execution_count": 81
        },
        {
          "output_type": "display_data",
          "data": {
            "image/png": "[encoded data removed]",
            "text/plain": [
              "<Figure size 864x432 with 1 Axes>"
            ]
          },
          "metadata": {}
        }
      ]
    },
    {
      "cell_type": "code",
      "source": [
        "final_df.head(2)"
      ],
      "metadata": {
        "colab": {
          "base_uri": "https://localhost:8080/",
          "height": 419
        },
        "id": "ciSOYsRHCIlF",
        "outputId": "9aa3f293-66e9-43d3-e20e-72477a109cd0"
      },
      "execution_count": 73,
      "outputs": [
        {
          "output_type": "execute_result",
          "data": {
            "text/html": [
              "\n",
              "  <div id=\"df-9bd58759-2a1c-4fdb-af2a-556cedf1e32b\">\n",
              "    <div class=\"colab-df-container\">\n",
              "      <div>\n",
              "<style scoped>\n",
              "    .dataframe tbody tr th:only-of-type {\n",
              "        vertical-align: middle;\n",
              "    }\n",
              "\n",
              "    .dataframe tbody tr th {\n",
              "        vertical-align: top;\n",
              "    }\n",
              "\n",
              "    .dataframe thead th {\n",
              "        text-align: right;\n",
              "    }\n",
              "</style>\n",
              "<table border=\"1\" class=\"dataframe\">\n",
              "  <thead>\n",
              "    <tr style=\"text-align: right;\">\n",
              "      <th></th>\n",
              "      <th>Restaurant ID</th>\n",
              "      <th>Restaurant Name</th>\n",
              "      <th>Country Code</th>\n",
              "      <th>City</th>\n",
              "      <th>Address</th>\n",
              "      <th>Locality</th>\n",
              "      <th>Locality Verbose</th>\n",
              "      <th>Longitude</th>\n",
              "      <th>Latitude</th>\n",
              "      <th>Cuisines</th>\n",
              "      <th>Average Cost for two</th>\n",
              "      <th>Currency</th>\n",
              "      <th>Has Table booking</th>\n",
              "      <th>Has Online delivery</th>\n",
              "      <th>Is delivering now</th>\n",
              "      <th>Switch to order menu</th>\n",
              "      <th>Price range</th>\n",
              "      <th>Aggregate rating</th>\n",
              "      <th>Rating color</th>\n",
              "      <th>Rating text</th>\n",
              "      <th>Votes</th>\n",
              "      <th>Country</th>\n",
              "    </tr>\n",
              "  </thead>\n",
              "  <tbody>\n",
              "    <tr>\n",
              "      <th>0</th>\n",
              "      <td>6317637</td>\n",
              "      <td>Le Petit Souffle</td>\n",
              "      <td>162</td>\n",
              "      <td>Makati City</td>\n",
              "      <td>Third Floor, Century City Mall, Kalayaan Avenu...</td>\n",
              "      <td>Century City Mall, Poblacion, Makati City</td>\n",
              "      <td>Century City Mall, Poblacion, Makati City, Mak...</td>\n",
              "      <td>121.027535</td>\n",
              "      <td>14.565443</td>\n",
              "      <td>French, Japanese, Desserts</td>\n",
              "      <td>1100</td>\n",
              "      <td>Botswana Pula(P)</td>\n",
              "      <td>Yes</td>\n",
              "      <td>No</td>\n",
              "      <td>No</td>\n",
              "      <td>No</td>\n",
              "      <td>3</td>\n",
              "      <td>4.8</td>\n",
              "      <td>Dark Green</td>\n",
              "      <td>Excellent</td>\n",
              "      <td>314</td>\n",
              "      <td>Phillipines</td>\n",
              "    </tr>\n",
              "    <tr>\n",
              "      <th>1</th>\n",
              "      <td>6304287</td>\n",
              "      <td>Izakaya Kikufuji</td>\n",
              "      <td>162</td>\n",
              "      <td>Makati City</td>\n",
              "      <td>Little Tokyo, 2277 Chino Roces Avenue, Legaspi...</td>\n",
              "      <td>Little Tokyo, Legaspi Village, Makati City</td>\n",
              "      <td>Little Tokyo, Legaspi Village, Makati City, Ma...</td>\n",
              "      <td>121.014101</td>\n",
              "      <td>14.553708</td>\n",
              "      <td>Japanese</td>\n",
              "      <td>1200</td>\n",
              "      <td>Botswana Pula(P)</td>\n",
              "      <td>Yes</td>\n",
              "      <td>No</td>\n",
              "      <td>No</td>\n",
              "      <td>No</td>\n",
              "      <td>3</td>\n",
              "      <td>4.5</td>\n",
              "      <td>Dark Green</td>\n",
              "      <td>Excellent</td>\n",
              "      <td>591</td>\n",
              "      <td>Phillipines</td>\n",
              "    </tr>\n",
              "  </tbody>\n",
              "</table>\n",
              "</div>\n",
              "      <button class=\"colab-df-convert\" onclick=\"convertToInteractive('df-9bd58759-2a1c-4fdb-af2a-556cedf1e32b')\"\n",
              "              title=\"Convert this dataframe to an interactive table.\"\n",
              "              style=\"display:none;\">\n",
              "        \n",
              "  <svg xmlns=\"http://www.w3.org/2000/svg\" height=\"24px\"viewBox=\"0 0 24 24\"\n",
              "       width=\"24px\">\n",
              "    <path d=\"M0 0h24v24H0V0z\" fill=\"none\"/>\n",
              "    <path d=\"M18.56 5.44l.94 2.06.94-2.06 2.06-.94-2.06-.94-.94-2.06-.94 2.06-2.06.94zm-11 1L8.5 8.5l.94-2.06 2.06-.94-2.06-.94L8.5 2.5l-.94 2.06-2.06.94zm10 10l.94 2.06.94-2.06 2.06-.94-2.06-.94-.94-2.06-.94 2.06-2.06.94z\"/><path d=\"M17.41 7.96l-1.37-1.37c-.4-.4-.92-.59-1.43-.59-.52 0-1.04.2-1.43.59L10.3 9.45l-7.72 7.72c-.78.78-.78 2.05 0 2.83L4 21.41c.39.39.9.59 1.41.59.51 0 1.02-.2 1.41-.59l7.78-7.78 2.81-2.81c.8-.78.8-2.07 0-2.86zM5.41 20L4 18.59l7.72-7.72 1.47 1.35L5.41 20z\"/>\n",
              "  </svg>\n",
              "      </button>\n",
              "      \n",
              "  <style>\n",
              "    .colab-df-container {\n",
              "      display:flex;\n",
              "      flex-wrap:wrap;\n",
              "      gap: 12px;\n",
              "    }\n",
              "\n",
              "    .colab-df-convert {\n",
              "      background-color: #E8F0FE;\n",
              "      border: none;\n",
              "      border-radius: 50%;\n",
              "      cursor: pointer;\n",
              "      display: none;\n",
              "      fill: #1967D2;\n",
              "      height: 32px;\n",
              "      padding: 0 0 0 0;\n",
              "      width: 32px;\n",
              "    }\n",
              "\n",
              "    .colab-df-convert:hover {\n",
              "      background-color: #E2EBFA;\n",
              "      box-shadow: 0px 1px 2px rgba(60, 64, 67, 0.3), 0px 1px 3px 1px rgba(60, 64, 67, 0.15);\n",
              "      fill: #174EA6;\n",
              "    }\n",
              "\n",
              "    [theme=dark] .colab-df-convert {\n",
              "      background-color: #3B4455;\n",
              "      fill: #D2E3FC;\n",
              "    }\n",
              "\n",
              "    [theme=dark] .colab-df-convert:hover {\n",
              "      background-color: #434B5C;\n",
              "      box-shadow: 0px 1px 3px 1px rgba(0, 0, 0, 0.15);\n",
              "      filter: drop-shadow(0px 1px 2px rgba(0, 0, 0, 0.3));\n",
              "      fill: #FFFFFF;\n",
              "    }\n",
              "  </style>\n",
              "\n",
              "      <script>\n",
              "        const buttonEl =\n",
              "          document.querySelector('#df-9bd58759-2a1c-4fdb-af2a-556cedf1e32b button.colab-df-convert');\n",
              "        buttonEl.style.display =\n",
              "          google.colab.kernel.accessAllowed ? 'block' : 'none';\n",
              "\n",
              "        async function convertToInteractive(key) {\n",
              "          const element = document.querySelector('#df-9bd58759-2a1c-4fdb-af2a-556cedf1e32b');\n",
              "          const dataTable =\n",
              "            await google.colab.kernel.invokeFunction('convertToInteractive',\n",
              "                                                     [key], {});\n",
              "          if (!dataTable) return;\n",
              "\n",
              "          const docLinkHtml = 'Like what you see? Visit the ' +\n",
              "            '<a target=\"_blank\" href=https://colab.research.google.com/notebooks/data_table.ipynb>data table notebook</a>'\n",
              "            + ' to learn more about interactive tables.';\n",
              "          element.innerHTML = '';\n",
              "          dataTable['output_type'] = 'display_data';\n",
              "          await google.colab.output.renderOutput(dataTable, element);\n",
              "          const docLink = document.createElement('div');\n",
              "          docLink.innerHTML = docLinkHtml;\n",
              "          element.appendChild(docLink);\n",
              "        }\n",
              "      </script>\n",
              "    </div>\n",
              "  </div>\n",
              "  "
            ],
            "text/plain": [
              "   Restaurant ID   Restaurant Name  ...  Votes      Country\n",
              "0        6317637  Le Petit Souffle  ...    314  Phillipines\n",
              "1        6304287  Izakaya Kikufuji  ...    591  Phillipines\n",
              "\n",
              "[2 rows x 22 columns]"
            ]
          },
          "metadata": {},
          "execution_count": 73
        }
      ]
    }
  ]
}