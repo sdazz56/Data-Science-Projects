{
  "nbformat": 4,
  "nbformat_minor": 0,
  "metadata": {
    "colab": {
      "name": "IPL Analysis (till 2020).ipynb",
      "provenance": [],
      "collapsed_sections": [],
      "authorship_tag": "ABX9TyMu9Jqd5SaPZIIABB9oqUhr",
      "include_colab_link": true
    },
    "kernelspec": {
      "name": "python3",
      "display_name": "Python 3"
    },
    "language_info": {
      "name": "python"
    }
  },
  "cells": [
    {
      "cell_type": "markdown",
      "metadata": {
        "id": "view-in-github",
        "colab_type": "text"
      },
      "source": [
        "<a href=\"https://colab.research.google.com/github/sdazz56/Data-Science-Projects/blob/main/IPL_Analysis_(till_2020).ipynb\" target=\"_parent\"><img src=\"https://colab.research.google.com/assets/colab-badge.svg\" alt=\"Open In Colab\"/></a>"
      ]
    },
    {
      "cell_type": "code",
      "execution_count": 99,
      "metadata": {
        "id": "UzWgd740izC5"
      },
      "outputs": [],
      "source": [
        "import pandas as pd\n",
        "import numpy as np\n",
        "import matplotlib.pyplot as plt\n",
        "import seaborn as sns"
      ]
    },
    {
      "cell_type": "code",
      "source": [
        "matches=pd.read_csv(\"/content/IPL Matches 2008-2020.csv\")\n",
        "players=pd.read_csv(\"/content/batsman_and_catches_data.csv\")"
      ],
      "metadata": {
        "id": "IvZo3EY7jNeY"
      },
      "execution_count": 100,
      "outputs": []
    },
    {
      "cell_type": "code",
      "source": [
        "matches.head()"
      ],
      "metadata": {
        "id": "MQ4MW4gmjhDq",
        "colab": {
          "base_uri": "https://localhost:8080/",
          "height": 461
        },
        "outputId": "abd54d27-597a-4539-a910-ae72301a0708"
      },
      "execution_count": 101,
      "outputs": [
        {
          "output_type": "execute_result",
          "data": {
            "text/plain": [
              "       id        city        date player_of_match  \\\n",
              "0  335982   Bangalore  2008-04-18     BB McCullum   \n",
              "1  335983  Chandigarh  2008-04-19      MEK Hussey   \n",
              "2  335984       Delhi  2008-04-19     MF Maharoof   \n",
              "3  335985      Mumbai  2008-04-20      MV Boucher   \n",
              "4  335986     Kolkata  2008-04-20       DJ Hussey   \n",
              "\n",
              "                                        venue  neutral_venue  \\\n",
              "0                       M Chinnaswamy Stadium              0   \n",
              "1  Punjab Cricket Association Stadium, Mohali              0   \n",
              "2                            Feroz Shah Kotla              0   \n",
              "3                            Wankhede Stadium              0   \n",
              "4                                Eden Gardens              0   \n",
              "\n",
              "                         team1                        team2  \\\n",
              "0  Royal Challengers Bangalore        Kolkata Knight Riders   \n",
              "1              Kings XI Punjab          Chennai Super Kings   \n",
              "2             Delhi Daredevils             Rajasthan Royals   \n",
              "3               Mumbai Indians  Royal Challengers Bangalore   \n",
              "4        Kolkata Knight Riders              Deccan Chargers   \n",
              "\n",
              "                   toss_winner toss_decision                       winner  \\\n",
              "0  Royal Challengers Bangalore         field        Kolkata Knight Riders   \n",
              "1          Chennai Super Kings           bat          Chennai Super Kings   \n",
              "2             Rajasthan Royals           bat             Delhi Daredevils   \n",
              "3               Mumbai Indians           bat  Royal Challengers Bangalore   \n",
              "4              Deccan Chargers           bat        Kolkata Knight Riders   \n",
              "\n",
              "    result  result_margin eliminator method    umpire1         umpire2  \n",
              "0     runs          140.0          N    NaN  Asad Rauf     RE Koertzen  \n",
              "1     runs           33.0          N    NaN  MR Benson      SL Shastri  \n",
              "2  wickets            9.0          N    NaN  Aleem Dar  GA Pratapkumar  \n",
              "3  wickets            5.0          N    NaN   SJ Davis       DJ Harper  \n",
              "4  wickets            5.0          N    NaN  BF Bowden     K Hariharan  "
            ],
            "text/html": [
              "\n",
              "  <div id=\"df-0c1cdb8f-6cb3-46cc-8309-f113699f8c86\">\n",
              "    <div class=\"colab-df-container\">\n",
              "      <div>\n",
              "<style scoped>\n",
              "    .dataframe tbody tr th:only-of-type {\n",
              "        vertical-align: middle;\n",
              "    }\n",
              "\n",
              "    .dataframe tbody tr th {\n",
              "        vertical-align: top;\n",
              "    }\n",
              "\n",
              "    .dataframe thead th {\n",
              "        text-align: right;\n",
              "    }\n",
              "</style>\n",
              "<table border=\"1\" class=\"dataframe\">\n",
              "  <thead>\n",
              "    <tr style=\"text-align: right;\">\n",
              "      <th></th>\n",
              "      <th>id</th>\n",
              "      <th>city</th>\n",
              "      <th>date</th>\n",
              "      <th>player_of_match</th>\n",
              "      <th>venue</th>\n",
              "      <th>neutral_venue</th>\n",
              "      <th>team1</th>\n",
              "      <th>team2</th>\n",
              "      <th>toss_winner</th>\n",
              "      <th>toss_decision</th>\n",
              "      <th>winner</th>\n",
              "      <th>result</th>\n",
              "      <th>result_margin</th>\n",
              "      <th>eliminator</th>\n",
              "      <th>method</th>\n",
              "      <th>umpire1</th>\n",
              "      <th>umpire2</th>\n",
              "    </tr>\n",
              "  </thead>\n",
              "  <tbody>\n",
              "    <tr>\n",
              "      <th>0</th>\n",
              "      <td>335982</td>\n",
              "      <td>Bangalore</td>\n",
              "      <td>2008-04-18</td>\n",
              "      <td>BB McCullum</td>\n",
              "      <td>M Chinnaswamy Stadium</td>\n",
              "      <td>0</td>\n",
              "      <td>Royal Challengers Bangalore</td>\n",
              "      <td>Kolkata Knight Riders</td>\n",
              "      <td>Royal Challengers Bangalore</td>\n",
              "      <td>field</td>\n",
              "      <td>Kolkata Knight Riders</td>\n",
              "      <td>runs</td>\n",
              "      <td>140.0</td>\n",
              "      <td>N</td>\n",
              "      <td>NaN</td>\n",
              "      <td>Asad Rauf</td>\n",
              "      <td>RE Koertzen</td>\n",
              "    </tr>\n",
              "    <tr>\n",
              "      <th>1</th>\n",
              "      <td>335983</td>\n",
              "      <td>Chandigarh</td>\n",
              "      <td>2008-04-19</td>\n",
              "      <td>MEK Hussey</td>\n",
              "      <td>Punjab Cricket Association Stadium, Mohali</td>\n",
              "      <td>0</td>\n",
              "      <td>Kings XI Punjab</td>\n",
              "      <td>Chennai Super Kings</td>\n",
              "      <td>Chennai Super Kings</td>\n",
              "      <td>bat</td>\n",
              "      <td>Chennai Super Kings</td>\n",
              "      <td>runs</td>\n",
              "      <td>33.0</td>\n",
              "      <td>N</td>\n",
              "      <td>NaN</td>\n",
              "      <td>MR Benson</td>\n",
              "      <td>SL Shastri</td>\n",
              "    </tr>\n",
              "    <tr>\n",
              "      <th>2</th>\n",
              "      <td>335984</td>\n",
              "      <td>Delhi</td>\n",
              "      <td>2008-04-19</td>\n",
              "      <td>MF Maharoof</td>\n",
              "      <td>Feroz Shah Kotla</td>\n",
              "      <td>0</td>\n",
              "      <td>Delhi Daredevils</td>\n",
              "      <td>Rajasthan Royals</td>\n",
              "      <td>Rajasthan Royals</td>\n",
              "      <td>bat</td>\n",
              "      <td>Delhi Daredevils</td>\n",
              "      <td>wickets</td>\n",
              "      <td>9.0</td>\n",
              "      <td>N</td>\n",
              "      <td>NaN</td>\n",
              "      <td>Aleem Dar</td>\n",
              "      <td>GA Pratapkumar</td>\n",
              "    </tr>\n",
              "    <tr>\n",
              "      <th>3</th>\n",
              "      <td>335985</td>\n",
              "      <td>Mumbai</td>\n",
              "      <td>2008-04-20</td>\n",
              "      <td>MV Boucher</td>\n",
              "      <td>Wankhede Stadium</td>\n",
              "      <td>0</td>\n",
              "      <td>Mumbai Indians</td>\n",
              "      <td>Royal Challengers Bangalore</td>\n",
              "      <td>Mumbai Indians</td>\n",
              "      <td>bat</td>\n",
              "      <td>Royal Challengers Bangalore</td>\n",
              "      <td>wickets</td>\n",
              "      <td>5.0</td>\n",
              "      <td>N</td>\n",
              "      <td>NaN</td>\n",
              "      <td>SJ Davis</td>\n",
              "      <td>DJ Harper</td>\n",
              "    </tr>\n",
              "    <tr>\n",
              "      <th>4</th>\n",
              "      <td>335986</td>\n",
              "      <td>Kolkata</td>\n",
              "      <td>2008-04-20</td>\n",
              "      <td>DJ Hussey</td>\n",
              "      <td>Eden Gardens</td>\n",
              "      <td>0</td>\n",
              "      <td>Kolkata Knight Riders</td>\n",
              "      <td>Deccan Chargers</td>\n",
              "      <td>Deccan Chargers</td>\n",
              "      <td>bat</td>\n",
              "      <td>Kolkata Knight Riders</td>\n",
              "      <td>wickets</td>\n",
              "      <td>5.0</td>\n",
              "      <td>N</td>\n",
              "      <td>NaN</td>\n",
              "      <td>BF Bowden</td>\n",
              "      <td>K Hariharan</td>\n",
              "    </tr>\n",
              "  </tbody>\n",
              "</table>\n",
              "</div>\n",
              "      <button class=\"colab-df-convert\" onclick=\"convertToInteractive('df-0c1cdb8f-6cb3-46cc-8309-f113699f8c86')\"\n",
              "              title=\"Convert this dataframe to an interactive table.\"\n",
              "              style=\"display:none;\">\n",
              "        \n",
              "  <svg xmlns=\"http://www.w3.org/2000/svg\" height=\"24px\"viewBox=\"0 0 24 24\"\n",
              "       width=\"24px\">\n",
              "    <path d=\"M0 0h24v24H0V0z\" fill=\"none\"/>\n",
              "    <path d=\"M18.56 5.44l.94 2.06.94-2.06 2.06-.94-2.06-.94-.94-2.06-.94 2.06-2.06.94zm-11 1L8.5 8.5l.94-2.06 2.06-.94-2.06-.94L8.5 2.5l-.94 2.06-2.06.94zm10 10l.94 2.06.94-2.06 2.06-.94-2.06-.94-.94-2.06-.94 2.06-2.06.94z\"/><path d=\"M17.41 7.96l-1.37-1.37c-.4-.4-.92-.59-1.43-.59-.52 0-1.04.2-1.43.59L10.3 9.45l-7.72 7.72c-.78.78-.78 2.05 0 2.83L4 21.41c.39.39.9.59 1.41.59.51 0 1.02-.2 1.41-.59l7.78-7.78 2.81-2.81c.8-.78.8-2.07 0-2.86zM5.41 20L4 18.59l7.72-7.72 1.47 1.35L5.41 20z\"/>\n",
              "  </svg>\n",
              "      </button>\n",
              "      \n",
              "  <style>\n",
              "    .colab-df-container {\n",
              "      display:flex;\n",
              "      flex-wrap:wrap;\n",
              "      gap: 12px;\n",
              "    }\n",
              "\n",
              "    .colab-df-convert {\n",
              "      background-color: #E8F0FE;\n",
              "      border: none;\n",
              "      border-radius: 50%;\n",
              "      cursor: pointer;\n",
              "      display: none;\n",
              "      fill: #1967D2;\n",
              "      height: 32px;\n",
              "      padding: 0 0 0 0;\n",
              "      width: 32px;\n",
              "    }\n",
              "\n",
              "    .colab-df-convert:hover {\n",
              "      background-color: #E2EBFA;\n",
              "      box-shadow: 0px 1px 2px rgba(60, 64, 67, 0.3), 0px 1px 3px 1px rgba(60, 64, 67, 0.15);\n",
              "      fill: #174EA6;\n",
              "    }\n",
              "\n",
              "    [theme=dark] .colab-df-convert {\n",
              "      background-color: #3B4455;\n",
              "      fill: #D2E3FC;\n",
              "    }\n",
              "\n",
              "    [theme=dark] .colab-df-convert:hover {\n",
              "      background-color: #434B5C;\n",
              "      box-shadow: 0px 1px 3px 1px rgba(0, 0, 0, 0.15);\n",
              "      filter: drop-shadow(0px 1px 2px rgba(0, 0, 0, 0.3));\n",
              "      fill: #FFFFFF;\n",
              "    }\n",
              "  </style>\n",
              "\n",
              "      <script>\n",
              "        const buttonEl =\n",
              "          document.querySelector('#df-0c1cdb8f-6cb3-46cc-8309-f113699f8c86 button.colab-df-convert');\n",
              "        buttonEl.style.display =\n",
              "          google.colab.kernel.accessAllowed ? 'block' : 'none';\n",
              "\n",
              "        async function convertToInteractive(key) {\n",
              "          const element = document.querySelector('#df-0c1cdb8f-6cb3-46cc-8309-f113699f8c86');\n",
              "          const dataTable =\n",
              "            await google.colab.kernel.invokeFunction('convertToInteractive',\n",
              "                                                     [key], {});\n",
              "          if (!dataTable) return;\n",
              "\n",
              "          const docLinkHtml = 'Like what you see? Visit the ' +\n",
              "            '<a target=\"_blank\" href=https://colab.research.google.com/notebooks/data_table.ipynb>data table notebook</a>'\n",
              "            + ' to learn more about interactive tables.';\n",
              "          element.innerHTML = '';\n",
              "          dataTable['output_type'] = 'display_data';\n",
              "          await google.colab.output.renderOutput(dataTable, element);\n",
              "          const docLink = document.createElement('div');\n",
              "          docLink.innerHTML = docLinkHtml;\n",
              "          element.appendChild(docLink);\n",
              "        }\n",
              "      </script>\n",
              "    </div>\n",
              "  </div>\n",
              "  "
            ]
          },
          "metadata": {},
          "execution_count": 101
        }
      ]
    },
    {
      "cell_type": "code",
      "source": [
        "matches.info()"
      ],
      "metadata": {
        "id": "LCUD1FGRlIAc",
        "colab": {
          "base_uri": "https://localhost:8080/"
        },
        "outputId": "78128e0c-6a73-48b5-c4fb-7f4d7f1e01f3"
      },
      "execution_count": 102,
      "outputs": [
        {
          "output_type": "stream",
          "name": "stdout",
          "text": [
            "<class 'pandas.core.frame.DataFrame'>\n",
            "RangeIndex: 816 entries, 0 to 815\n",
            "Data columns (total 17 columns):\n",
            " #   Column           Non-Null Count  Dtype  \n",
            "---  ------           --------------  -----  \n",
            " 0   id               816 non-null    int64  \n",
            " 1   city             803 non-null    object \n",
            " 2   date             816 non-null    object \n",
            " 3   player_of_match  812 non-null    object \n",
            " 4   venue            816 non-null    object \n",
            " 5   neutral_venue    816 non-null    int64  \n",
            " 6   team1            816 non-null    object \n",
            " 7   team2            816 non-null    object \n",
            " 8   toss_winner      816 non-null    object \n",
            " 9   toss_decision    816 non-null    object \n",
            " 10  winner           812 non-null    object \n",
            " 11  result           812 non-null    object \n",
            " 12  result_margin    799 non-null    float64\n",
            " 13  eliminator       812 non-null    object \n",
            " 14  method           19 non-null     object \n",
            " 15  umpire1          816 non-null    object \n",
            " 16  umpire2          816 non-null    object \n",
            "dtypes: float64(1), int64(2), object(14)\n",
            "memory usage: 108.5+ KB\n"
          ]
        }
      ]
    },
    {
      "cell_type": "code",
      "source": [
        "matches=matches.drop(['method'],axis=1)"
      ],
      "metadata": {
        "id": "JWLspepZrYo_"
      },
      "execution_count": 103,
      "outputs": []
    },
    {
      "cell_type": "code",
      "source": [
        "matches.isna().sum()"
      ],
      "metadata": {
        "id": "P-cFOaCEvdLZ",
        "colab": {
          "base_uri": "https://localhost:8080/"
        },
        "outputId": "8c14697f-8fdf-4a9c-8d6c-3e7c45ca9df3"
      },
      "execution_count": 104,
      "outputs": [
        {
          "output_type": "execute_result",
          "data": {
            "text/plain": [
              "id                  0\n",
              "city               13\n",
              "date                0\n",
              "player_of_match     4\n",
              "venue               0\n",
              "neutral_venue       0\n",
              "team1               0\n",
              "team2               0\n",
              "toss_winner         0\n",
              "toss_decision       0\n",
              "winner              4\n",
              "result              4\n",
              "result_margin      17\n",
              "eliminator          4\n",
              "umpire1             0\n",
              "umpire2             0\n",
              "dtype: int64"
            ]
          },
          "metadata": {},
          "execution_count": 104
        }
      ]
    },
    {
      "cell_type": "code",
      "source": [
        "matches=matches.dropna(how='any')\n",
        "matches.result_margin = matches.result_margin.astype(int)\n",
        "matches.info()"
      ],
      "metadata": {
        "id": "nArsPTRpv76_",
        "colab": {
          "base_uri": "https://localhost:8080/"
        },
        "outputId": "85cc5f26-8a50-4a8e-99bf-5e7571e4d454"
      },
      "execution_count": 105,
      "outputs": [
        {
          "output_type": "stream",
          "name": "stdout",
          "text": [
            "<class 'pandas.core.frame.DataFrame'>\n",
            "Int64Index: 786 entries, 0 to 815\n",
            "Data columns (total 16 columns):\n",
            " #   Column           Non-Null Count  Dtype \n",
            "---  ------           --------------  ----- \n",
            " 0   id               786 non-null    int64 \n",
            " 1   city             786 non-null    object\n",
            " 2   date             786 non-null    object\n",
            " 3   player_of_match  786 non-null    object\n",
            " 4   venue            786 non-null    object\n",
            " 5   neutral_venue    786 non-null    int64 \n",
            " 6   team1            786 non-null    object\n",
            " 7   team2            786 non-null    object\n",
            " 8   toss_winner      786 non-null    object\n",
            " 9   toss_decision    786 non-null    object\n",
            " 10  winner           786 non-null    object\n",
            " 11  result           786 non-null    object\n",
            " 12  result_margin    786 non-null    int64 \n",
            " 13  eliminator       786 non-null    object\n",
            " 14  umpire1          786 non-null    object\n",
            " 15  umpire2          786 non-null    object\n",
            "dtypes: int64(3), object(13)\n",
            "memory usage: 104.4+ KB\n"
          ]
        }
      ]
    },
    {
      "cell_type": "code",
      "source": [
        "matches=matches.drop(['id'],axis=1)\n",
        "matches[[\"day\", \"month\", \"year\"]] = matches[\"date\"].str.split(\"-\", expand = True)"
      ],
      "metadata": {
        "id": "wcX5NCgYU0W4"
      },
      "execution_count": 106,
      "outputs": []
    },
    {
      "cell_type": "code",
      "source": [
        "matches=matches.drop(['date'],axis=1  )\n",
        "matches.head()"
      ],
      "metadata": {
        "id": "IBdBgSYtWlP0",
        "colab": {
          "base_uri": "https://localhost:8080/",
          "height": 461
        },
        "outputId": "0a589bd8-f13b-4771-b15f-41c83616944c"
      },
      "execution_count": 107,
      "outputs": [
        {
          "output_type": "execute_result",
          "data": {
            "text/plain": [
              "         city player_of_match                                       venue  \\\n",
              "0   Bangalore     BB McCullum                       M Chinnaswamy Stadium   \n",
              "1  Chandigarh      MEK Hussey  Punjab Cricket Association Stadium, Mohali   \n",
              "2       Delhi     MF Maharoof                            Feroz Shah Kotla   \n",
              "3      Mumbai      MV Boucher                            Wankhede Stadium   \n",
              "4     Kolkata       DJ Hussey                                Eden Gardens   \n",
              "\n",
              "   neutral_venue                        team1                        team2  \\\n",
              "0              0  Royal Challengers Bangalore        Kolkata Knight Riders   \n",
              "1              0              Kings XI Punjab          Chennai Super Kings   \n",
              "2              0             Delhi Daredevils             Rajasthan Royals   \n",
              "3              0               Mumbai Indians  Royal Challengers Bangalore   \n",
              "4              0        Kolkata Knight Riders              Deccan Chargers   \n",
              "\n",
              "                   toss_winner toss_decision                       winner  \\\n",
              "0  Royal Challengers Bangalore         field        Kolkata Knight Riders   \n",
              "1          Chennai Super Kings           bat          Chennai Super Kings   \n",
              "2             Rajasthan Royals           bat             Delhi Daredevils   \n",
              "3               Mumbai Indians           bat  Royal Challengers Bangalore   \n",
              "4              Deccan Chargers           bat        Kolkata Knight Riders   \n",
              "\n",
              "    result  result_margin eliminator    umpire1         umpire2   day month  \\\n",
              "0     runs            140          N  Asad Rauf     RE Koertzen  2008    04   \n",
              "1     runs             33          N  MR Benson      SL Shastri  2008    04   \n",
              "2  wickets              9          N  Aleem Dar  GA Pratapkumar  2008    04   \n",
              "3  wickets              5          N   SJ Davis       DJ Harper  2008    04   \n",
              "4  wickets              5          N  BF Bowden     K Hariharan  2008    04   \n",
              "\n",
              "  year  \n",
              "0   18  \n",
              "1   19  \n",
              "2   19  \n",
              "3   20  \n",
              "4   20  "
            ],
            "text/html": [
              "\n",
              "  <div id=\"df-eaa62d09-cb07-4c2f-ada1-4e786947b15e\">\n",
              "    <div class=\"colab-df-container\">\n",
              "      <div>\n",
              "<style scoped>\n",
              "    .dataframe tbody tr th:only-of-type {\n",
              "        vertical-align: middle;\n",
              "    }\n",
              "\n",
              "    .dataframe tbody tr th {\n",
              "        vertical-align: top;\n",
              "    }\n",
              "\n",
              "    .dataframe thead th {\n",
              "        text-align: right;\n",
              "    }\n",
              "</style>\n",
              "<table border=\"1\" class=\"dataframe\">\n",
              "  <thead>\n",
              "    <tr style=\"text-align: right;\">\n",
              "      <th></th>\n",
              "      <th>city</th>\n",
              "      <th>player_of_match</th>\n",
              "      <th>venue</th>\n",
              "      <th>neutral_venue</th>\n",
              "      <th>team1</th>\n",
              "      <th>team2</th>\n",
              "      <th>toss_winner</th>\n",
              "      <th>toss_decision</th>\n",
              "      <th>winner</th>\n",
              "      <th>result</th>\n",
              "      <th>result_margin</th>\n",
              "      <th>eliminator</th>\n",
              "      <th>umpire1</th>\n",
              "      <th>umpire2</th>\n",
              "      <th>day</th>\n",
              "      <th>month</th>\n",
              "      <th>year</th>\n",
              "    </tr>\n",
              "  </thead>\n",
              "  <tbody>\n",
              "    <tr>\n",
              "      <th>0</th>\n",
              "      <td>Bangalore</td>\n",
              "      <td>BB McCullum</td>\n",
              "      <td>M Chinnaswamy Stadium</td>\n",
              "      <td>0</td>\n",
              "      <td>Royal Challengers Bangalore</td>\n",
              "      <td>Kolkata Knight Riders</td>\n",
              "      <td>Royal Challengers Bangalore</td>\n",
              "      <td>field</td>\n",
              "      <td>Kolkata Knight Riders</td>\n",
              "      <td>runs</td>\n",
              "      <td>140</td>\n",
              "      <td>N</td>\n",
              "      <td>Asad Rauf</td>\n",
              "      <td>RE Koertzen</td>\n",
              "      <td>2008</td>\n",
              "      <td>04</td>\n",
              "      <td>18</td>\n",
              "    </tr>\n",
              "    <tr>\n",
              "      <th>1</th>\n",
              "      <td>Chandigarh</td>\n",
              "      <td>MEK Hussey</td>\n",
              "      <td>Punjab Cricket Association Stadium, Mohali</td>\n",
              "      <td>0</td>\n",
              "      <td>Kings XI Punjab</td>\n",
              "      <td>Chennai Super Kings</td>\n",
              "      <td>Chennai Super Kings</td>\n",
              "      <td>bat</td>\n",
              "      <td>Chennai Super Kings</td>\n",
              "      <td>runs</td>\n",
              "      <td>33</td>\n",
              "      <td>N</td>\n",
              "      <td>MR Benson</td>\n",
              "      <td>SL Shastri</td>\n",
              "      <td>2008</td>\n",
              "      <td>04</td>\n",
              "      <td>19</td>\n",
              "    </tr>\n",
              "    <tr>\n",
              "      <th>2</th>\n",
              "      <td>Delhi</td>\n",
              "      <td>MF Maharoof</td>\n",
              "      <td>Feroz Shah Kotla</td>\n",
              "      <td>0</td>\n",
              "      <td>Delhi Daredevils</td>\n",
              "      <td>Rajasthan Royals</td>\n",
              "      <td>Rajasthan Royals</td>\n",
              "      <td>bat</td>\n",
              "      <td>Delhi Daredevils</td>\n",
              "      <td>wickets</td>\n",
              "      <td>9</td>\n",
              "      <td>N</td>\n",
              "      <td>Aleem Dar</td>\n",
              "      <td>GA Pratapkumar</td>\n",
              "      <td>2008</td>\n",
              "      <td>04</td>\n",
              "      <td>19</td>\n",
              "    </tr>\n",
              "    <tr>\n",
              "      <th>3</th>\n",
              "      <td>Mumbai</td>\n",
              "      <td>MV Boucher</td>\n",
              "      <td>Wankhede Stadium</td>\n",
              "      <td>0</td>\n",
              "      <td>Mumbai Indians</td>\n",
              "      <td>Royal Challengers Bangalore</td>\n",
              "      <td>Mumbai Indians</td>\n",
              "      <td>bat</td>\n",
              "      <td>Royal Challengers Bangalore</td>\n",
              "      <td>wickets</td>\n",
              "      <td>5</td>\n",
              "      <td>N</td>\n",
              "      <td>SJ Davis</td>\n",
              "      <td>DJ Harper</td>\n",
              "      <td>2008</td>\n",
              "      <td>04</td>\n",
              "      <td>20</td>\n",
              "    </tr>\n",
              "    <tr>\n",
              "      <th>4</th>\n",
              "      <td>Kolkata</td>\n",
              "      <td>DJ Hussey</td>\n",
              "      <td>Eden Gardens</td>\n",
              "      <td>0</td>\n",
              "      <td>Kolkata Knight Riders</td>\n",
              "      <td>Deccan Chargers</td>\n",
              "      <td>Deccan Chargers</td>\n",
              "      <td>bat</td>\n",
              "      <td>Kolkata Knight Riders</td>\n",
              "      <td>wickets</td>\n",
              "      <td>5</td>\n",
              "      <td>N</td>\n",
              "      <td>BF Bowden</td>\n",
              "      <td>K Hariharan</td>\n",
              "      <td>2008</td>\n",
              "      <td>04</td>\n",
              "      <td>20</td>\n",
              "    </tr>\n",
              "  </tbody>\n",
              "</table>\n",
              "</div>\n",
              "      <button class=\"colab-df-convert\" onclick=\"convertToInteractive('df-eaa62d09-cb07-4c2f-ada1-4e786947b15e')\"\n",
              "              title=\"Convert this dataframe to an interactive table.\"\n",
              "              style=\"display:none;\">\n",
              "        \n",
              "  <svg xmlns=\"http://www.w3.org/2000/svg\" height=\"24px\"viewBox=\"0 0 24 24\"\n",
              "       width=\"24px\">\n",
              "    <path d=\"M0 0h24v24H0V0z\" fill=\"none\"/>\n",
              "    <path d=\"M18.56 5.44l.94 2.06.94-2.06 2.06-.94-2.06-.94-.94-2.06-.94 2.06-2.06.94zm-11 1L8.5 8.5l.94-2.06 2.06-.94-2.06-.94L8.5 2.5l-.94 2.06-2.06.94zm10 10l.94 2.06.94-2.06 2.06-.94-2.06-.94-.94-2.06-.94 2.06-2.06.94z\"/><path d=\"M17.41 7.96l-1.37-1.37c-.4-.4-.92-.59-1.43-.59-.52 0-1.04.2-1.43.59L10.3 9.45l-7.72 7.72c-.78.78-.78 2.05 0 2.83L4 21.41c.39.39.9.59 1.41.59.51 0 1.02-.2 1.41-.59l7.78-7.78 2.81-2.81c.8-.78.8-2.07 0-2.86zM5.41 20L4 18.59l7.72-7.72 1.47 1.35L5.41 20z\"/>\n",
              "  </svg>\n",
              "      </button>\n",
              "      \n",
              "  <style>\n",
              "    .colab-df-container {\n",
              "      display:flex;\n",
              "      flex-wrap:wrap;\n",
              "      gap: 12px;\n",
              "    }\n",
              "\n",
              "    .colab-df-convert {\n",
              "      background-color: #E8F0FE;\n",
              "      border: none;\n",
              "      border-radius: 50%;\n",
              "      cursor: pointer;\n",
              "      display: none;\n",
              "      fill: #1967D2;\n",
              "      height: 32px;\n",
              "      padding: 0 0 0 0;\n",
              "      width: 32px;\n",
              "    }\n",
              "\n",
              "    .colab-df-convert:hover {\n",
              "      background-color: #E2EBFA;\n",
              "      box-shadow: 0px 1px 2px rgba(60, 64, 67, 0.3), 0px 1px 3px 1px rgba(60, 64, 67, 0.15);\n",
              "      fill: #174EA6;\n",
              "    }\n",
              "\n",
              "    [theme=dark] .colab-df-convert {\n",
              "      background-color: #3B4455;\n",
              "      fill: #D2E3FC;\n",
              "    }\n",
              "\n",
              "    [theme=dark] .colab-df-convert:hover {\n",
              "      background-color: #434B5C;\n",
              "      box-shadow: 0px 1px 3px 1px rgba(0, 0, 0, 0.15);\n",
              "      filter: drop-shadow(0px 1px 2px rgba(0, 0, 0, 0.3));\n",
              "      fill: #FFFFFF;\n",
              "    }\n",
              "  </style>\n",
              "\n",
              "      <script>\n",
              "        const buttonEl =\n",
              "          document.querySelector('#df-eaa62d09-cb07-4c2f-ada1-4e786947b15e button.colab-df-convert');\n",
              "        buttonEl.style.display =\n",
              "          google.colab.kernel.accessAllowed ? 'block' : 'none';\n",
              "\n",
              "        async function convertToInteractive(key) {\n",
              "          const element = document.querySelector('#df-eaa62d09-cb07-4c2f-ada1-4e786947b15e');\n",
              "          const dataTable =\n",
              "            await google.colab.kernel.invokeFunction('convertToInteractive',\n",
              "                                                     [key], {});\n",
              "          if (!dataTable) return;\n",
              "\n",
              "          const docLinkHtml = 'Like what you see? Visit the ' +\n",
              "            '<a target=\"_blank\" href=https://colab.research.google.com/notebooks/data_table.ipynb>data table notebook</a>'\n",
              "            + ' to learn more about interactive tables.';\n",
              "          element.innerHTML = '';\n",
              "          dataTable['output_type'] = 'display_data';\n",
              "          await google.colab.output.renderOutput(dataTable, element);\n",
              "          const docLink = document.createElement('div');\n",
              "          docLink.innerHTML = docLinkHtml;\n",
              "          element.appendChild(docLink);\n",
              "        }\n",
              "      </script>\n",
              "    </div>\n",
              "  </div>\n",
              "  "
            ]
          },
          "metadata": {},
          "execution_count": 107
        }
      ]
    },
    {
      "cell_type": "code",
      "source": [
        "players.info()"
      ],
      "metadata": {
        "colab": {
          "base_uri": "https://localhost:8080/"
        },
        "id": "lxMN67-c9upv",
        "outputId": "d3999a66-5098-49bb-8fb0-f8be06c8ef9e"
      },
      "execution_count": 108,
      "outputs": [
        {
          "output_type": "stream",
          "name": "stdout",
          "text": [
            "<class 'pandas.core.frame.DataFrame'>\n",
            "RangeIndex: 77 entries, 0 to 76\n",
            "Data columns (total 2 columns):\n",
            " #   Column   Non-Null Count  Dtype \n",
            "---  ------   --------------  ----- \n",
            " 0   batsman  77 non-null     object\n",
            " 1   catches  77 non-null     int64 \n",
            "dtypes: int64(1), object(1)\n",
            "memory usage: 1.3+ KB\n"
          ]
        }
      ]
    },
    {
      "cell_type": "code",
      "source": [
        "sns.violinplot(\n",
        "     x=\"batsman\",y=\"catches\",\n",
        "    data=players.nlargest(6, 'catches')\n",
        ")"
      ],
      "metadata": {
        "id": "3qxG3LPSePSr",
        "colab": {
          "base_uri": "https://localhost:8080/",
          "height": 296
        },
        "outputId": "ddbff760-beb1-42c8-9a46-59f2fbea381e"
      },
      "execution_count": 109,
      "outputs": [
        {
          "output_type": "execute_result",
          "data": {
            "text/plain": [
              "<matplotlib.axes._subplots.AxesSubplot at 0x7f3da8609950>"
            ]
          },
          "metadata": {},
          "execution_count": 109
        },
        {
          "output_type": "display_data",
          "data": {
            "text/plain": [
              "<Figure size 432x288 with 1 Axes>"
            ],
            "image/png": "[encoded data removed]"
          },
          "metadata": {
            "needs_background": "light"
          }
        }
      ]
    },
    {
      "cell_type": "code",
      "source": [
        "#Renaming the columns returned by value_counts\n",
        "top_player_of_match_awards = matches['player_of_match'].value_counts().rename_axis('names').reset_index(name='counts')\n",
        "top_player_of_match_awards.head()"
      ],
      "metadata": {
        "colab": {
          "base_uri": "https://localhost:8080/",
          "height": 206
        },
        "id": "1puPtQLTQrJN",
        "outputId": "024026ca-2865-4374-b57a-fe60919ccbb7"
      },
      "execution_count": 110,
      "outputs": [
        {
          "output_type": "execute_result",
          "data": {
            "text/plain": [
              "            names  counts\n",
              "0  AB de Villiers      22\n",
              "1        CH Gayle      22\n",
              "2       RG Sharma      18\n",
              "3        MS Dhoni      17\n",
              "4       DA Warner      17"
            ],
            "text/html": [
              "\n",
              "  <div id=\"df-80b48343-ae9b-4d9f-be00-5c7a60cc737c\">\n",
              "    <div class=\"colab-df-container\">\n",
              "      <div>\n",
              "<style scoped>\n",
              "    .dataframe tbody tr th:only-of-type {\n",
              "        vertical-align: middle;\n",
              "    }\n",
              "\n",
              "    .dataframe tbody tr th {\n",
              "        vertical-align: top;\n",
              "    }\n",
              "\n",
              "    .dataframe thead th {\n",
              "        text-align: right;\n",
              "    }\n",
              "</style>\n",
              "<table border=\"1\" class=\"dataframe\">\n",
              "  <thead>\n",
              "    <tr style=\"text-align: right;\">\n",
              "      <th></th>\n",
              "      <th>names</th>\n",
              "      <th>counts</th>\n",
              "    </tr>\n",
              "  </thead>\n",
              "  <tbody>\n",
              "    <tr>\n",
              "      <th>0</th>\n",
              "      <td>AB de Villiers</td>\n",
              "      <td>22</td>\n",
              "    </tr>\n",
              "    <tr>\n",
              "      <th>1</th>\n",
              "      <td>CH Gayle</td>\n",
              "      <td>22</td>\n",
              "    </tr>\n",
              "    <tr>\n",
              "      <th>2</th>\n",
              "      <td>RG Sharma</td>\n",
              "      <td>18</td>\n",
              "    </tr>\n",
              "    <tr>\n",
              "      <th>3</th>\n",
              "      <td>MS Dhoni</td>\n",
              "      <td>17</td>\n",
              "    </tr>\n",
              "    <tr>\n",
              "      <th>4</th>\n",
              "      <td>DA Warner</td>\n",
              "      <td>17</td>\n",
              "    </tr>\n",
              "  </tbody>\n",
              "</table>\n",
              "</div>\n",
              "      <button class=\"colab-df-convert\" onclick=\"convertToInteractive('df-80b48343-ae9b-4d9f-be00-5c7a60cc737c')\"\n",
              "              title=\"Convert this dataframe to an interactive table.\"\n",
              "              style=\"display:none;\">\n",
              "        \n",
              "  <svg xmlns=\"http://www.w3.org/2000/svg\" height=\"24px\"viewBox=\"0 0 24 24\"\n",
              "       width=\"24px\">\n",
              "    <path d=\"M0 0h24v24H0V0z\" fill=\"none\"/>\n",
              "    <path d=\"M18.56 5.44l.94 2.06.94-2.06 2.06-.94-2.06-.94-.94-2.06-.94 2.06-2.06.94zm-11 1L8.5 8.5l.94-2.06 2.06-.94-2.06-.94L8.5 2.5l-.94 2.06-2.06.94zm10 10l.94 2.06.94-2.06 2.06-.94-2.06-.94-.94-2.06-.94 2.06-2.06.94z\"/><path d=\"M17.41 7.96l-1.37-1.37c-.4-.4-.92-.59-1.43-.59-.52 0-1.04.2-1.43.59L10.3 9.45l-7.72 7.72c-.78.78-.78 2.05 0 2.83L4 21.41c.39.39.9.59 1.41.59.51 0 1.02-.2 1.41-.59l7.78-7.78 2.81-2.81c.8-.78.8-2.07 0-2.86zM5.41 20L4 18.59l7.72-7.72 1.47 1.35L5.41 20z\"/>\n",
              "  </svg>\n",
              "      </button>\n",
              "      \n",
              "  <style>\n",
              "    .colab-df-container {\n",
              "      display:flex;\n",
              "      flex-wrap:wrap;\n",
              "      gap: 12px;\n",
              "    }\n",
              "\n",
              "    .colab-df-convert {\n",
              "      background-color: #E8F0FE;\n",
              "      border: none;\n",
              "      border-radius: 50%;\n",
              "      cursor: pointer;\n",
              "      display: none;\n",
              "      fill: #1967D2;\n",
              "      height: 32px;\n",
              "      padding: 0 0 0 0;\n",
              "      width: 32px;\n",
              "    }\n",
              "\n",
              "    .colab-df-convert:hover {\n",
              "      background-color: #E2EBFA;\n",
              "      box-shadow: 0px 1px 2px rgba(60, 64, 67, 0.3), 0px 1px 3px 1px rgba(60, 64, 67, 0.15);\n",
              "      fill: #174EA6;\n",
              "    }\n",
              "\n",
              "    [theme=dark] .colab-df-convert {\n",
              "      background-color: #3B4455;\n",
              "      fill: #D2E3FC;\n",
              "    }\n",
              "\n",
              "    [theme=dark] .colab-df-convert:hover {\n",
              "      background-color: #434B5C;\n",
              "      box-shadow: 0px 1px 3px 1px rgba(0, 0, 0, 0.15);\n",
              "      filter: drop-shadow(0px 1px 2px rgba(0, 0, 0, 0.3));\n",
              "      fill: #FFFFFF;\n",
              "    }\n",
              "  </style>\n",
              "\n",
              "      <script>\n",
              "        const buttonEl =\n",
              "          document.querySelector('#df-80b48343-ae9b-4d9f-be00-5c7a60cc737c button.colab-df-convert');\n",
              "        buttonEl.style.display =\n",
              "          google.colab.kernel.accessAllowed ? 'block' : 'none';\n",
              "\n",
              "        async function convertToInteractive(key) {\n",
              "          const element = document.querySelector('#df-80b48343-ae9b-4d9f-be00-5c7a60cc737c');\n",
              "          const dataTable =\n",
              "            await google.colab.kernel.invokeFunction('convertToInteractive',\n",
              "                                                     [key], {});\n",
              "          if (!dataTable) return;\n",
              "\n",
              "          const docLinkHtml = 'Like what you see? Visit the ' +\n",
              "            '<a target=\"_blank\" href=https://colab.research.google.com/notebooks/data_table.ipynb>data table notebook</a>'\n",
              "            + ' to learn more about interactive tables.';\n",
              "          element.innerHTML = '';\n",
              "          dataTable['output_type'] = 'display_data';\n",
              "          await google.colab.output.renderOutput(dataTable, element);\n",
              "          const docLink = document.createElement('div');\n",
              "          docLink.innerHTML = docLinkHtml;\n",
              "          element.appendChild(docLink);\n",
              "        }\n",
              "      </script>\n",
              "    </div>\n",
              "  </div>\n",
              "  "
            ]
          },
          "metadata": {},
          "execution_count": 110
        }
      ]
    },
    {
      "cell_type": "code",
      "source": [
        "plt.figure(figsize=(15,5))\n",
        "plt.bar(top_player_of_match_awards['names'].head(10),top_player_of_match_awards['counts'].head(10),width=0.6)"
      ],
      "metadata": {
        "colab": {
          "base_uri": "https://localhost:8080/",
          "height": 337
        },
        "id": "TScym7U2RFjx",
        "outputId": "803f8a26-1b02-4750-d3ca-fce85032d084"
      },
      "execution_count": 111,
      "outputs": [
        {
          "output_type": "execute_result",
          "data": {
            "text/plain": [
              "<BarContainer object of 10 artists>"
            ]
          },
          "metadata": {},
          "execution_count": 111
        },
        {
          "output_type": "display_data",
          "data": {
            "text/plain": [
              "<Figure size 1080x360 with 1 Axes>"
            ],
            "image/png": "[encoded data removed]"
          },
          "metadata": {
            "needs_background": "light"
          }
        }
      ]
    },
    {
      "cell_type": "code",
      "source": [
        "#Renaming the columns returned by value_counts for matches won\n",
        "most_winning_matches = matches['winner'].value_counts().rename_axis('names').reset_index(name='counts')\n",
        "most_winning_matches['names'][1]\n",
        "#Renaming the columns returned by value_counts for toss won\n",
        "most_tosses_won = matches['toss_winner'].value_counts().rename_axis('names').reset_index(name='counts')\n",
        "most_tosses_won['names'][0]"
      ],
      "metadata": {
        "colab": {
          "base_uri": "https://localhost:8080/",
          "height": 35
        },
        "id": "dcebNl_XVWWC",
        "outputId": "9b29ea19-5e74-4a89-d3ea-6485275a41e8"
      },
      "execution_count": 112,
      "outputs": [
        {
          "output_type": "execute_result",
          "data": {
            "text/plain": [
              "'Mumbai Indians'"
            ],
            "application/vnd.google.colaboratory.intrinsic+json": {
              "type": "string"
            }
          },
          "metadata": {},
          "execution_count": 112
        }
      ]
    },
    {
      "cell_type": "code",
      "source": [
        "plt.figure(figsize=(35,5))\n",
        "\n",
        "X_axis = np.arange(len(most_winning_matches['names']))\n",
        "  \n",
        "plt.bar(X_axis - 0.2, most_winning_matches['counts'], 0.4, label = 'Matches Won')\n",
        "plt.bar(X_axis + 0.2, most_tosses_won['counts'], 0.4, label = 'Tosses Won')\n",
        "  \n",
        "plt.xticks(X_axis, most_winning_matches['names'])\n",
        "plt.xlabel(\"Teams\")\n",
        "plt.ylabel(\"Number of Times Won\")\n",
        "plt.title(\"Matches v/s Toss Won\")\n",
        "plt.legend()\n",
        "plt.show()"
      ],
      "metadata": {
        "colab": {
          "base_uri": "https://localhost:8080/",
          "height": 262
        },
        "id": "AoDg7y1nhTV0",
        "outputId": "67a1365e-0602-4f99-af59-683bef8ae132"
      },
      "execution_count": 113,
      "outputs": [
        {
          "output_type": "display_data",
          "data": {
            "text/plain": [
              "<Figure size 2520x360 with 1 Axes>"
            ],
            "image/png": "[encoded data removed]"
          },
          "metadata": {
            "needs_background": "light"
          }
        }
      ]
    }
  ]
}