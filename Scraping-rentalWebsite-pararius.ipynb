import bs4
from bs4 import BeautifulSoup
import requests 
import csv
from csv import writer

url="https://www.pararius.com/apartments/amsterdam?ac=1"
response=requests.get(url)
response.status_code

soup=BeautifulSoup(response.content, 'html.parser')
print(soup.prettify)

print(soup.find_all('section',class_='listing-search-item'))

lists=soup.find_all('section',class_='listing-search-item') 
#class_ is used bcoz its not a python class its a css class

with open('housing.csv','w',encoding='utf8',newline='')as f:
  thewriter = writer(f)
  header=['Title','Location','Price','Area','Rooms']
  thewriter.writerow(header)
  for list in lists:
    title=list.find('a',class_='listing-search-item__link--title').text.replace('\n'," ").strip()
    location=list.find('div',class_='listing-search-item__location').text.replace('\n'," ").strip() 
    price=list.find('div',class_='listing-search-item__price').text.replace('\n'," ").strip()
    area=list.find('li',class_='illustrated-features__item--surface-area').text.replace('\n'," ").strip() 
    rooms=list.find('li',class_='illustrated-features__item--number-of-rooms').text.replace('\n'," ").strip()
    info=[title,location,price,area,rooms]
    thewriter.writerow(info)
    

