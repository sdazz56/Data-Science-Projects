{
  "nbformat": 4,
  "nbformat_minor": 0,
  "metadata": {
    "colab": {
      "name": "BlackFridayDataset.ipynb",
      "provenance": [],
      "collapsed_sections": [],
      "authorship_tag": "ABX9TyOFc5iN3rUER9/DIF+eN78p",
      "include_colab_link": true
    },
    "kernelspec": {
      "name": "python3",
      "display_name": "Python 3"
    },
    "language_info": {
      "name": "python"
    }
  },
  "cells": [
    {
      "cell_type": "markdown",
      "metadata": {
        "id": "view-in-github",
        "colab_type": "text"
      },
      "source": [
        "<a href=\"https://colab.research.google.com/github/sdazz56/Data-Science-Projects/blob/main/BlackFridayDataset.ipynb\" target=\"_parent\"><img src=\"https://colab.research.google.com/assets/colab-badge.svg\" alt=\"Open In Colab\"/></a>"
      ]
    },
    {
      "cell_type": "code",
      "execution_count": null,
      "metadata": {
        "id": "01OitivFAG6x"
      },
      "outputs": [],
      "source": [
        "import pandas as pd\n",
        "import numpy as np\n",
        "import matplotlib.pyplot as plt\n",
        "import seaborn as sns\n",
        "%matplotlib inline"
      ]
    },
    {
      "cell_type": "markdown",
      "source": [
        "\n",
        "##Problem Statement\n",
        "\n",
        "A retail company “ABC Private Limited” wants to understand the customer purchase behaviour (specifically, purchase amount) against various products of different categories. They have shared purchase summary of various customers for selected high volume products from last month. The data set also contains customer demographics (age, gender, marital status, city_type, stay_in_current_city), product details (product_id and product category) and Total purchase_amount from last month.\n",
        "\n",
        "Now, they want to build a model to predict the purchase amount of customer against various products which will help them to create personalized offer for customers against different products.\n"
      ],
      "metadata": {
        "id": "ZgNFS5IAC6AH"
      }
    },
    {
      "cell_type": "code",
      "source": [
        "df_train=pd.read_csv('/content/train.csv')\n",
        "df_train.head()"
      ],
      "metadata": {
        "id": "MH8BaHcNAZll"
      },
      "execution_count": null,
      "outputs": []
    },
    {
      "cell_type": "code",
      "source": [
        "df_train.columns"
      ],
      "metadata": {
        "id": "ZPTcQArGDV1s"
      },
      "execution_count": null,
      "outputs": []
    },
    {
      "cell_type": "code",
      "source": [
        "df_test.columns"
      ],
      "metadata": {
        "id": "YajIM03zE7sr"
      },
      "execution_count": null,
      "outputs": []
    },
    {
      "cell_type": "code",
      "source": [
        "df_train.info()"
      ],
      "metadata": {
        "id": "chH3klweDYtF"
      },
      "execution_count": null,
      "outputs": []
    },
    {
      "cell_type": "code",
      "source": [
        "df_train.describe()"
      ],
      "metadata": {
        "id": "GpDj40UNDi6h"
      },
      "execution_count": null,
      "outputs": []
    },
    {
      "cell_type": "code",
      "source": [
        "df_test=pd.read_csv('/content/test.csv')\n",
        "df_test.head()"
      ],
      "metadata": {
        "id": "xa7LShS7DstQ"
      },
      "execution_count": null,
      "outputs": []
    },
    {
      "cell_type": "code",
      "source": [
        "df=df_train.append(df_test)\n",
        "df.head()"
      ],
      "metadata": {
        "id": "zOXUeITuEvdI"
      },
      "execution_count": null,
      "outputs": []
    },
    {
      "cell_type": "code",
      "source": [
        "df.drop(['User_ID'],axis=1,inplace=True) #axis=1 means columwise and inplace=True means it will update the df automatically"
      ],
      "metadata": {
        "id": "1z48UBDDF6Lp"
      },
      "execution_count": null,
      "outputs": []
    },
    {
      "cell_type": "code",
      "source": [
        "#Handling categorical feature Gender\n",
        "df['Gender']=df['Gender'].map({'F':0,'M':1})"
      ],
      "metadata": {
        "id": "377Ex9J8GWbl"
      },
      "execution_count": null,
      "outputs": []
    },
    {
      "cell_type": "code",
      "source": [
        "df['Age'].unique()"
      ],
      "metadata": {
        "id": "rD-7b6A3IApR"
      },
      "execution_count": null,
      "outputs": []
    },
    {
      "cell_type": "code",
      "source": [
        "df['Age']=df['Age'].map({'0-17':1,'18-25':2, '26-35':3,'36-45':4, '46-50':5, '51-55':6, '55+':7})"
      ],
      "metadata": {
        "id": "YOm2yyrqI-6f"
      },
      "execution_count": null,
      "outputs": []
    },
    {
      "cell_type": "code",
      "source": [
        "#fixing categorical city_category\n",
        "df_city=pd.get_dummies(df['City_Category'],drop_first=True)\n",
        "df=pd.concat([df,df_city],axis=1)"
      ],
      "metadata": {
        "id": "6KV1L-wxKg9G"
      },
      "execution_count": null,
      "outputs": []
    },
    {
      "cell_type": "code",
      "source": [
        "df.drop(['Product_ID'],axis=1,inplace=True)"
      ],
      "metadata": {
        "id": "hKJxpCrJLUy4"
      },
      "execution_count": null,
      "outputs": []
    },
    {
      "cell_type": "code",
      "source": [
        "df.head()"
      ],
      "metadata": {
        "id": "u6-qwY02GSn3"
      },
      "execution_count": null,
      "outputs": []
    },
    {
      "cell_type": "markdown",
      "source": [
        "Cleaning null values"
      ],
      "metadata": {
        "id": "KQDiB_Q2U6Ej"
      }
    },
    {
      "cell_type": "code",
      "source": [
        "#finding missing values\n",
        "df.isnull().sum()"
      ],
      "metadata": {
        "id": "xs19wiBaMAiq"
      },
      "execution_count": null,
      "outputs": []
    },
    {
      "cell_type": "code",
      "source": [
        "#Focus on replacing null values\n",
        "df['Product_Category_2'].unique()"
      ],
      "metadata": {
        "id": "5uOd9NHmMP1x"
      },
      "execution_count": null,
      "outputs": []
    },
    {
      "cell_type": "code",
      "source": [
        "df['Product_Category_2'].value_counts()"
      ],
      "metadata": {
        "id": "bVBqhFdQNM95"
      },
      "execution_count": null,
      "outputs": []
    },
    {
      "cell_type": "code",
      "source": [
        "#Replace the missing value with mode\n",
        "df['Product_Category_2'].mode()[0]"
      ],
      "metadata": {
        "id": "6S6I5GdGNhLo"
      },
      "execution_count": null,
      "outputs": []
    },
    {
      "cell_type": "code",
      "source": [
        "df['Product_Category_2']=df['Product_Category_2'].fillna(df['Product_Category_2'].mode()[0])\n",
        "df['Product_Category_2'].isnull().sum()"
      ],
      "metadata": {
        "id": "cJDutmTZOA9v"
      },
      "execution_count": null,
      "outputs": []
    },
    {
      "cell_type": "code",
      "source": [
        "df['Product_Category_3'].value_counts()"
      ],
      "metadata": {
        "id": "62txZGPOO6e_"
      },
      "execution_count": null,
      "outputs": []
    },
    {
      "cell_type": "code",
      "source": [
        "df['Product_Category_3'].mode()[0]"
      ],
      "metadata": {
        "id": "5DLpRCQDPdZB"
      },
      "execution_count": null,
      "outputs": []
    },
    {
      "cell_type": "code",
      "source": [
        "df['Product_Category_3']=df['Product_Category_3'].fillna(df['Product_Category_3'].mode()[0])"
      ],
      "metadata": {
        "id": "Ktpk7oSRPCO4"
      },
      "execution_count": null,
      "outputs": []
    },
    {
      "cell_type": "code",
      "source": [
        "df['Product_Category_1']=df['Product_Category_1'].fillna(df['Product_Category_1'].mode()[0])"
      ],
      "metadata": {
        "id": "3XMIk-tMUs0H"
      },
      "execution_count": null,
      "outputs": []
    },
    {
      "cell_type": "code",
      "source": [
        "df['Product_Category_3'].isnull().sum()"
      ],
      "metadata": {
        "id": "WZJg5pL8PUue"
      },
      "execution_count": null,
      "outputs": []
    },
    {
      "cell_type": "code",
      "source": [
        "df.shape"
      ],
      "metadata": {
        "id": "fL0oIS1PP1Ky"
      },
      "execution_count": null,
      "outputs": []
    },
    {
      "cell_type": "code",
      "source": [
        "df['Stay_In_Current_City_Years'].unique()"
      ],
      "metadata": {
        "id": "wwFydpafQTcs"
      },
      "execution_count": null,
      "outputs": []
    },
    {
      "cell_type": "code",
      "source": [
        "df['Stay_In_Current_City_Years'].mode()"
      ],
      "metadata": {
        "id": "k9BOkp0NRlWy"
      },
      "execution_count": null,
      "outputs": []
    },
    {
      "cell_type": "code",
      "source": [
        "df['Stay_In_Current_City_Years'].value_counts()\n",
        "df['Stay_In_Current_City_Years']=df['Stay_In_Current_City_Years'].fillna(df['Stay_In_Current_City_Years'].mode()[0])"
      ],
      "metadata": {
        "id": "p8nkIkKlQcgk"
      },
      "execution_count": null,
      "outputs": []
    },
    {
      "cell_type": "code",
      "source": [
        "df['Stay_In_Current_City_Years']=df['Stay_In_Current_City_Years'].str.replace('+','')"
      ],
      "metadata": {
        "id": "P3MN3OBjQ2PH"
      },
      "execution_count": null,
      "outputs": []
    },
    {
      "cell_type": "code",
      "source": [
        "df['Age'].mode()\n",
        "df['Age']=df['Age'].fillna(df['Age'].mode()[0])"
      ],
      "metadata": {
        "id": "MUlcum5TTNxt"
      },
      "execution_count": null,
      "outputs": []
    },
    {
      "cell_type": "code",
      "source": [
        "df['Gender'].mode()\n",
        "df['Gender']=df['Gender'].fillna(df['Gender'].mode()[0])"
      ],
      "metadata": {
        "id": "Gvedcm8eTd7Q"
      },
      "execution_count": null,
      "outputs": []
    },
    {
      "cell_type": "code",
      "source": [
        "df['Occupation'].mode()\n",
        "df['Occupation']=df['Occupation'].fillna(df['Occupation'].mode()[0])"
      ],
      "metadata": {
        "id": "oMQgsHyVTyNl"
      },
      "execution_count": null,
      "outputs": []
    },
    {
      "cell_type": "code",
      "source": [
        "df['Marital_Status'].mode()\n",
        "df['Marital_Status']=df['Marital_Status'].fillna(df['Marital_Status'].mode()[0])"
      ],
      "metadata": {
        "id": "E0ir45LoUcHN"
      },
      "execution_count": null,
      "outputs": []
    },
    {
      "cell_type": "code",
      "source": [
        "df.head()"
      ],
      "metadata": {
        "id": "gMRWXxIyU12j"
      },
      "execution_count": null,
      "outputs": []
    },
    {
      "cell_type": "code",
      "source": [
        "#converting object to int\n",
        "df['Stay_In_Current_City_Years']=df['Stay_In_Current_City_Years'].astype(int)"
      ],
      "metadata": {
        "id": "pWFk9y4aVpcd"
      },
      "execution_count": null,
      "outputs": []
    },
    {
      "cell_type": "code",
      "source": [
        "df['Gender']=df['Gender'].astype(int)\n",
        "df['Age']=df['Age'].astype(int)\n",
        "df['Occupation']=df['Occupation'].astype(int)\n",
        "df['Marital_Status']=df['Marital_Status'].astype(int)\n",
        "df['Product_Category_1']=df['Product_Category_1'].astype(int)\n",
        "df['B']=df['B'].astype(int)\n",
        "df['C']=df['C'].astype(int)"
      ],
      "metadata": {
        "id": "uBjsqoqQWq5-"
      },
      "execution_count": null,
      "outputs": []
    },
    {
      "cell_type": "code",
      "source": [
        "df.info()"
      ],
      "metadata": {
        "id": "ERLfqkelVJJG"
      },
      "execution_count": null,
      "outputs": []
    },
    {
      "cell_type": "code",
      "source": [
        "##Visualisation\n",
        "sns.barplot('Age','Purchase',hue='Gender',data=df)"
      ],
      "metadata": {
        "colab": {
          "base_uri": "https://localhost:8080/",
          "height": 354
        },
        "id": "9mSxavMcXzKj",
        "outputId": "d4de782a-5e16-461b-f615-b0b3a64ac4fd"
      },
      "execution_count": null,
      "outputs": [
        {
          "output_type": "stream",
          "name": "stderr",
          "text": [
            "/usr/local/lib/python3.7/dist-packages/seaborn/_decorators.py:43: FutureWarning: Pass the following variables as keyword args: x, y. From version 0.12, the only valid positional argument will be `data`, and passing other arguments without an explicit keyword will result in an error or misinterpretation.\n",
            "  FutureWarning\n"
          ]
        },
        {
          "output_type": "execute_result",
          "data": {
            "text/plain": [
              "<matplotlib.axes._subplots.AxesSubplot at 0x7f31885f8610>"
            ]
          },
          "metadata": {},
          "execution_count": 110
        },
        {
          "output_type": "display_data",
          "data": {
            "image/png": "[encoded data removed]",
            "text/plain": [
              "<Figure size 432x288 with 1 Axes>"
            ]
          },
          "metadata": {
            "needs_background": "light"
          }
        }
      ]
    },
    {
      "cell_type": "markdown",
      "source": [
        "Observation:\n",
        "\n",
        "\n",
        "Purchasing of Men is higher than Women\n",
        "\n",
        "\n",
        "All age ranges are having equal no. of purchases"
      ],
      "metadata": {
        "id": "_zR8Owt3Z-x_"
      }
    },
    {
      "cell_type": "code",
      "source": [
        "#visualisation of purchase with occupation\n",
        "plt.rcParams[\"figure.figsize\"] = (8,6)\n",
        "sns.barplot('Occupation','Purchase',hue='Gender',data=df)"
      ],
      "metadata": {
        "colab": {
          "base_uri": "https://localhost:8080/",
          "height": 463
        },
        "id": "vmn3ez4zZ7Y-",
        "outputId": "8fa5153b-955b-4fec-bf85-2f981c78b50c"
      },
      "execution_count": null,
      "outputs": [
        {
          "output_type": "stream",
          "name": "stderr",
          "text": [
            "/usr/local/lib/python3.7/dist-packages/seaborn/_decorators.py:43: FutureWarning: Pass the following variables as keyword args: x, y. From version 0.12, the only valid positional argument will be `data`, and passing other arguments without an explicit keyword will result in an error or misinterpretation.\n",
            "  FutureWarning\n"
          ]
        },
        {
          "output_type": "execute_result",
          "data": {
            "text/plain": [
              "<matplotlib.axes._subplots.AxesSubplot at 0x7f3185781810>"
            ]
          },
          "metadata": {},
          "execution_count": 118
        },
        {
          "output_type": "display_data",
          "data": {
            "image/png": "[encoded data removed]",
            "text/plain": [
              "<Figure size 576x432 with 1 Axes>"
            ]
          },
          "metadata": {
            "needs_background": "light"
          }
        }
      ]
    },
    {
      "cell_type": "code",
      "source": [
        "plt.rcParams[\"figure.figsize\"] = (8,6)\n",
        "sns.barplot('Product_Category_1','Purchase',hue='Gender',data=df)"
      ],
      "metadata": {
        "colab": {
          "base_uri": "https://localhost:8080/",
          "height": 464
        },
        "id": "k7gJ9RTGcC7D",
        "outputId": "590f8529-cb76-4ae8-8a0f-1046290853dc"
      },
      "execution_count": null,
      "outputs": [
        {
          "output_type": "stream",
          "name": "stderr",
          "text": [
            "/usr/local/lib/python3.7/dist-packages/seaborn/_decorators.py:43: FutureWarning: Pass the following variables as keyword args: x, y. From version 0.12, the only valid positional argument will be `data`, and passing other arguments without an explicit keyword will result in an error or misinterpretation.\n",
            "  FutureWarning\n"
          ]
        },
        {
          "output_type": "execute_result",
          "data": {
            "text/plain": [
              "<matplotlib.axes._subplots.AxesSubplot at 0x7f31854a3710>"
            ]
          },
          "metadata": {},
          "execution_count": 119
        },
        {
          "output_type": "display_data",
          "data": {
            "image/png": "[encoded data removed]",
            "text/plain": [
              "<Figure size 576x432 with 1 Axes>"
            ]
          },
          "metadata": {
            "needs_background": "light"
          }
        }
      ]
    },
    {
      "cell_type": "code",
      "source": [
        "plt.rcParams[\"figure.figsize\"] = (8,6)\n",
        "sns.barplot('Product_Category_2','Purchase',hue='Gender',data=df)"
      ],
      "metadata": {
        "colab": {
          "base_uri": "https://localhost:8080/",
          "height": 464
        },
        "id": "BviLkIz3ccVn",
        "outputId": "cf2c900c-f51e-42f6-e5ad-eaa9b8c53dc4"
      },
      "execution_count": null,
      "outputs": [
        {
          "output_type": "stream",
          "name": "stderr",
          "text": [
            "/usr/local/lib/python3.7/dist-packages/seaborn/_decorators.py:43: FutureWarning: Pass the following variables as keyword args: x, y. From version 0.12, the only valid positional argument will be `data`, and passing other arguments without an explicit keyword will result in an error or misinterpretation.\n",
            "  FutureWarning\n"
          ]
        },
        {
          "output_type": "execute_result",
          "data": {
            "text/plain": [
              "<matplotlib.axes._subplots.AxesSubplot at 0x7f3184fed3d0>"
            ]
          },
          "metadata": {},
          "execution_count": 124
        },
        {
          "output_type": "display_data",
          "data": {
            "image/png": "[encoded data removed]",
            "text/plain": [
              "<Figure size 576x432 with 1 Axes>"
            ]
          },
          "metadata": {
            "needs_background": "light"
          }
        }
      ]
    },
    {
      "cell_type": "code",
      "source": [
        "plt.rcParams[\"figure.figsize\"] = (8,6)\n",
        "sns.barplot('Product_Category_3','Purchase',hue='Gender',data=df)"
      ],
      "metadata": {
        "colab": {
          "base_uri": "https://localhost:8080/",
          "height": 464
        },
        "id": "nzZeSroXcgpJ",
        "outputId": "0326c43d-91c9-4d31-a1ab-20b25f7a2776"
      },
      "execution_count": null,
      "outputs": [
        {
          "output_type": "stream",
          "name": "stderr",
          "text": [
            "/usr/local/lib/python3.7/dist-packages/seaborn/_decorators.py:43: FutureWarning: Pass the following variables as keyword args: x, y. From version 0.12, the only valid positional argument will be `data`, and passing other arguments without an explicit keyword will result in an error or misinterpretation.\n",
            "  FutureWarning\n"
          ]
        },
        {
          "output_type": "execute_result",
          "data": {
            "text/plain": [
              "<matplotlib.axes._subplots.AxesSubplot at 0x7f31852c5f90>"
            ]
          },
          "metadata": {},
          "execution_count": 121
        },
        {
          "output_type": "display_data",
          "data": {
            "image/png": "[encoded data removed]",
            "text/plain": [
              "<Figure size 576x432 with 1 Axes>"
            ]
          },
          "metadata": {
            "needs_background": "light"
          }
        }
      ]
    }
  ]
}